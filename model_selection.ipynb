{1
 "cells": [
  {
   "cell_type": "code",
   "execution_count": 1,
   "metadata": {},
   "outputs": [],
   "source": [
    "import mglearn"
   ]
  },
  {
   "cell_type": "code",
   "execution_count": 2,
   "metadata": {},
   "outputs": [],
   "source": [
    "### 지도학습\n",
    "# knn"
   ]
  },
  {
   "cell_type": "code",
   "execution_count": 4,
   "metadata": {},
   "outputs": [
    {
     "name": "stderr",
     "output_type": "stream",
     "text": [
      "C:\\ProgramData\\Anaconda3\\lib\\site-packages\\sklearn\\utils\\deprecation.py:86: FutureWarning: Function make_blobs is deprecated; Please import make_blobs directly from scikit-learn\n",
      "  warnings.warn(msg, category=FutureWarning)\n"
     ]
    },
    {
     "data": {
      "image/png": "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\n",
      "text/plain": [
       "<Figure size 432x288 with 1 Axes>"
      ]
     },
     "metadata": {
      "needs_background": "light"
     },
     "output_type": "display_data"
    }
   ],
   "source": [
    "mglearn.plots.plot_knn_classification(n_neighbors=5)"
   ]
  },
  {
   "cell_type": "code",
   "execution_count": 5,
   "metadata": {},
   "outputs": [
    {
     "name": "stderr",
     "output_type": "stream",
     "text": [
      "C:\\ProgramData\\Anaconda3\\lib\\site-packages\\sklearn\\utils\\deprecation.py:86: FutureWarning: Function make_blobs is deprecated; Please import make_blobs directly from scikit-learn\n",
      "  warnings.warn(msg, category=FutureWarning)\n"
     ]
    }
   ],
   "source": [
    "x, y = mglearn.datasets.make_forge()"
   ]
  },
  {
   "cell_type": "code",
   "execution_count": 6,
   "metadata": {
    "collapsed": true
   },
   "outputs": [
    {
     "data": {
      "text/plain": [
       "array([[ 9.96346605,  4.59676542],\n",
       "       [11.0329545 , -0.16816717],\n",
       "       [11.54155807,  5.21116083],\n",
       "       [ 8.69289001,  1.54322016],\n",
       "       [ 8.1062269 ,  4.28695977],\n",
       "       [ 8.30988863,  4.80623966],\n",
       "       [11.93027136,  4.64866327],\n",
       "       [ 9.67284681, -0.20283165],\n",
       "       [ 8.34810316,  5.13415623],\n",
       "       [ 8.67494727,  4.47573059],\n",
       "       [ 9.17748385,  5.09283177],\n",
       "       [10.24028948,  2.45544401],\n",
       "       [ 8.68937095,  1.48709629],\n",
       "       [ 8.92229526, -0.63993225],\n",
       "       [ 9.49123469,  4.33224792],\n",
       "       [ 9.25694192,  5.13284858],\n",
       "       [ 7.99815287,  4.8525051 ],\n",
       "       [ 8.18378052,  1.29564214],\n",
       "       [ 8.7337095 ,  2.49162431],\n",
       "       [ 9.32298256,  5.09840649],\n",
       "       [10.06393839,  0.99078055],\n",
       "       [ 9.50048972, -0.26430318],\n",
       "       [ 8.34468785,  1.63824349],\n",
       "       [ 9.50169345,  1.93824624],\n",
       "       [ 9.15072323,  5.49832246],\n",
       "       [11.563957  ,  1.3389402 ]])"
      ]
     },
     "execution_count": 6,
     "metadata": {},
     "output_type": "execute_result"
    }
   ],
   "source": [
    "x"
   ]
  },
  {
   "cell_type": "code",
   "execution_count": 7,
   "metadata": {
    "collapsed": true
   },
   "outputs": [
    {
     "data": {
      "text/plain": [
       "array([1, 0, 1, 0, 0, 1, 1, 0, 1, 1, 1, 1, 0, 0, 1, 1, 1, 0, 0, 1, 0, 0,\n",
       "       0, 0, 1, 0])"
      ]
     },
     "execution_count": 7,
     "metadata": {},
     "output_type": "execute_result"
    }
   ],
   "source": [
    "y"
   ]
  },
  {
   "cell_type": "code",
   "execution_count": 8,
   "metadata": {},
   "outputs": [],
   "source": [
    "from sklearn.model_selection import train_test_split"
   ]
  },
  {
   "cell_type": "code",
   "execution_count": 10,
   "metadata": {},
   "outputs": [],
   "source": [
    "x_train, x_test, y_train, y_test =  train_test_split(x,y,test_size=0.2)"
   ]
  },
  {
   "cell_type": "code",
   "execution_count": 11,
   "metadata": {},
   "outputs": [],
   "source": [
    "from sklearn.neighbors import KNeighborsClassifier"
   ]
  },
  {
   "cell_type": "code",
   "execution_count": 16,
   "metadata": {},
   "outputs": [],
   "source": [
    "clf = KNeighborsClassifier(n_neighbors=3)"
   ]
  },
  {
   "cell_type": "code",
   "execution_count": 17,
   "metadata": {},
   "outputs": [
    {
     "name": "stdout",
     "output_type": "stream",
     "text": [
      "1.0\n"
     ]
    }
   ],
   "source": [
    "clf.fit(x_train,y_train)\n",
    "preds = clf.predict(x_test)\n",
    "score = clf.score(x_test,y_test)\n",
    "print(score)"
   ]
  },
  {
   "cell_type": "code",
   "execution_count": 18,
   "metadata": {},
   "outputs": [],
   "source": [
    "import pandas as pd\n",
    "import numpy as np\n",
    "import matplotlib.pyplot as plt\n",
    "import seaborn as sns"
   ]
  },
  {
   "cell_type": "code",
   "execution_count": 19,
   "metadata": {},
   "outputs": [],
   "source": [
    "import warnings"
   ]
  },
  {
   "cell_type": "code",
   "execution_count": 20,
   "metadata": {},
   "outputs": [],
   "source": [
    "warnings.filterwarnings(action='ignore')"
   ]
  },
  {
   "cell_type": "code",
   "execution_count": 21,
   "metadata": {},
   "outputs": [],
   "source": [
    "import matplotlib as mpl\n",
    "import matplotlib.font_manager as fm\n",
    "mpl.rcParams['axes.unicode_minus']= False\n",
    "path = 'C:/Windows/Fonts/malgun.ttf'\n",
    "font_name = fm.FontProperties(fname = path, size = 50).get_name()\n",
    "plt.rc('font', family=font_name)"
   ]
  },
  {
   "cell_type": "code",
   "execution_count": 22,
   "metadata": {},
   "outputs": [
    {
     "data": {
      "text/plain": [
       "<matplotlib.legend.Legend at 0x185c8d5ca00>"
      ]
     },
     "execution_count": 22,
     "metadata": {},
     "output_type": "execute_result"
    },
    {
     "data": {
      "image/png": "iVBORw0KGgoAAAANSUhEUgAAAkkAAADNCAYAAACsPuTTAAAABHNCSVQICAgIfAhkiAAAAAlwSFlzAAALEgAACxIB0t1+/AAAADh0RVh0U29mdHdhcmUAbWF0cGxvdGxpYiB2ZXJzaW9uMy4yLjIsIGh0dHA6Ly9tYXRwbG90bGliLm9yZy+WH4yJAAAgAElEQVR4nO3de3wU9b3/8dc3F0ISkpBqRMpRqrQ94oEIpwoWFanl0ovSejm0oMbL6Q9a21PbYlHUHLGoiMVLT6m1nB4UarG2Kgq2FgKKIApURQMWa6WWKkUIGpJAQiDk+/tjs7hJdjd7mdmd2X0/H488ILOzs99N3pn57Hfm+x1jrUVEREREOstJdwNEREREvEhFkoiIiEgYKpJEREREwlCRJCIiIhKGiiSHGWPOTHcbxN+UIXGCciROMsb0Ncacku52pJrR6DZnGWP+bq39RJdlZcDtwCigLeSh3wD3Wv0SJIQyJE5QjsRJxpgxwJXW2iu7LD8LuBk4NmRxHTDbWvtSyhrokrx0N8CPjDFXA9cCBlgNzLDWHo7ylLuBvwKnW2vbO7ZRDPwa+CeBHZRkEWVInKAciZOMMX2A+4FhBIrom621f4iyfgHwKDDeWvvnkOX/BjxjjBnUQx49T6fbOhhjzjLGvGiMGdbDeiOAacDZ1tpKoBcwvYfNvw+cApxsjOlljCkCTgU+3vGY+Jwx5qfGmFXGmE3GmF8ZYwqjrKsMSVjGmK8YY9YaY543xiwzxhwXZV3lSAAwxtxqjFndcQx7vKPHEBNwhzHmlY5903U9bOouYGtHnr4E3G2MOTHK+oeBZmCYMeYYY0yeMeZYYDhwgM69lb6k022AMWYxUAJ8CrjMWvtalHV/AjxrrX2q4/u+wAvW2iEd34fr4s4Brga+ABxPIFjvAL+y1j7n/DuSVDPGlFlrGzr+vxhYba1dFGFdZUi6McacBDwFnGWtbTLGTAa+bK29LML6ypEAYIyZbK19pOP/s4Fe1trrjTEXA18HJgH5wAvAd621GyJs523gFGttW8f3/wUUWWvnRjnd9i/At4B/B/oC+4BXgJ9Za3c5/mZTTKfbAr5prW02xqyJYd0Tgb8Ev7HW7uvocoyoo1v7lx1fkoFCCqRSoD/wepTVlSEJ59+Bjdbapo7vHwV+GmV95UgACBZIHf4EXNLx/8v46FqzQ8aYRcBXgW5FUkfv095ggdThTeDCHl77PeCmJJrvaSqSAGttcxyrfwiUdVl2JNyKxpjzgVldFp8INBKotkN9yVq7J452iIcYY84D5gCfBm6P1huJMiThvQbcaYwZYK3dCXwFKDfG9LbWHgyzvnIknRhj8oHvAvd1LPoE8LeQVXYAkUY9NgFFXZb1JZCzcK/1C+AzXRZXArVdlm201n47asM9TEVS/NYQqNI3Ahhjvkygcu/GWvs08HToMmPMfGCVtfZJd5spqWStfRYY2dGT9IAx5nvW2vsirL4GZUi6sNZuN8ZcCzxsjDlI4Pe+K0KBBMqRhDDGfJJAD+EjHb9vgAI6Xxd0BGgP93xrbbsxZo8xZqi1dkvH4knAAxHWnxamDe9Za09P9D14kYqk+D0CfL3jeoD3CeykLo7j+c8D291omKSftbbRGPNzYAYffZrrShmSsDpGEv0BwBjzaeBrUVZXjgQAY8xE4HpgqrX2jZCH3iPQYxi8KH8g8Pcom/oh8KAx5hECvUL7rbWr42jKwjjW9QWNbotTx/naCwhcL/AqcK619u+xPLfjosnrCJwnlgzRMarj+I7/GwLn/NdFWl8Zkkg6TpfQMTryPmBepHWVIwEwxvQDfkzgNOkbXR5+DLimY70C4AoC0z2EZa3dDIwncC3S/1hrr4qjHUOBm40xp8b3DrxNRVICrLXt1toXrbUrrLX7Y3lOx6fCJ4BlwInGmDuNMeWuNlRSpQ/wlDHmRWAt0EJgPpqIlCGJ4CljzAsERiEtt9Yui7ayciQEhtsfSyA7azq+nuh4bCHQaIzZQCBT/2etfSvaxqy1H1prf2+tfSWWF++YZuBCYBGBns+FxpiLOj4w+p5Ot4Ww1o5xepvGmM8BdwD1BC7oXd+x/GvAMmPMAQLTDux1+rUlNay1O4CRbm1fGcoe1tovubVt5SgzWWv/CBwT4bE2Ahdyu8IYM4fAfEqrgXHW2g+MMSuBmcBNxpinrbW3uPX6qaB5khxmjCm11jaGfJ8HFIYM6+26/sestWFHD0h2UobECcqROKkjP71CR4N3TBvQFJy9vcv6OUCptbbr6ElfUZEkIiIiEoauSRIREREJQ0WSiIiISBiuXLh9bEmJ/URFhRubFo945Z139lprXfslK0OZz+0MgXKUDbQvEidEypErRdInKip4+bbb3Ni0eIS59NIdbm5fGcp8bmcIlKNsoH2ROCFSjnS6TURERCQMFUkiIiIiYahIEhEREQlDRZKIiIhIGCqSRERERMLIuiJpV309X5gzm/f3+XqmdEkz5UiSpQyJE5Qjd2VdkXTX8ifZtP0t7lq2NN1NER9TjiRZypA4QTlyV1YVSbvq61m0bi2rLy9k0bq1qrwlIcqRJEsZEicoR+7LqiLpruVPckVlHsP751JVmafKWxKiHEmylCFxgnLkvqwpkoIV94xRgbc8Y1SOKm+Jm3IkyVKGxAnKUWpkTZEUrLj7lwTecv+SHFXeEjflSJKlDIkTlKPUyIoiqWvFHZTplbdGPThLOcrM95dKylBmvr9UU45S9/6yokjqWnEHZXrlrVEPzlKOMvP9pZIylJnvL9WUo9S9P88XSclWjpEq7qAZo3J4aN3zGVd5a9RDZ6nIUSb+nJWjzpLJkfZFyhDomJaodOXI80VSspVjpIo7qH9JDpNPNcx67NFkmuk5GvXQWUpy9G8oRxkumRzFkqEpQ3I4Z9ZNGXWAU4Y60zEtMenKUV5KXiVBoZXj2IfXMmPihRzft29c2/jT9r+y/u1m7tsQfb0Ty19NoqXeEvy5vfHNXkDgk8WQBxL7+WWCVOboEx/bnERLvUU56izZHMWaodKCVu5atpR7qq5KssXppwx1pmNaYtKZI0/3JDlROb5w6x3YX//66Nc/58+nvKgXlw3No6oyj/Le8OrUYuqbmzPm05tGPXTmdI5CM/St0/P55w/60KdXIEeNB1uVowyVbI6i7YtCc7TmiuKMOS2lDHWmY1pi0pkjzxZJbs0BcdfyJ7nklFx+/9c2CvIMV5zWi+H9c7lsaG5GdE9m66iHSNzIUWiGqkcXcNf6Q/zn8HyG98/l8srcjDgAKEedKUfxU4Y60zEtMenOkWeLJDcqx+APG9q4ZHA+j/35MDPOCnTfVY8uYMmLL/j+DzdbRz1E4nSOQjN0xWmB7Cx6/RDXn1UAwPWjcjPiAKAcdaYcxU8Z6kzHtMSkO0eeLJLcqhyDFfdjfz4MBq44rVenwPq98s7WEViRuJGj0AzNOKsXd60/1C1Hfu8FUI46U47ipwx1pmNaYryQo7QXSeGGQ7pROUaruIP8XnnHMuohEz/BRRpS63SOIn3675ojv/cCKEfKUbKyNUOgY5qTvJCjtI9uCx0OeU/VVd2uYu8q0avaP6q4W7jk1PxOFXdQaOX9wDemJfW+0iHWUQ9nffKvqWlQinTNEHQfDdFVIjkKzdAb1/Tp9uk/KLQXwI8jlJQj5ShZ2Zoh0DHNSV7IUVqLpHDDIeOpHGPdcQRf55JT7NGK+41r+oRdt3p0Af/6sxeYdcnXfDdE9YVb70h3E1Iu0pBap3MUmqHQT/+RcnT9qFzfDnVWjpSjZGVjhkDHNKd5IUdpLZI6D4e03LVsqSuVY/B1/rSzlT/98wj/OTw/amAvjzOwkj7hMnRP1VWO5yg0Q+vfPcL9Lx/qMUfx7vgkfZQjcYKOaZknbUVSpMmh3vjxvUer3e8vfhAaXuTeCXl8f0UbpmxUQr/kYEgBivLh5y8f5ucvH476nEzsBo5kV309Vz0wn4e+9V+++qQRbYKx4CcQNzIEkJejHIXya4ZAOfKSTMxR8JjmVIZAx7RonM5Q2oqkaMMhw53HTWaGTTe77Pz8Rx0U7loMP8iUDIH/c+TXDEHm5MjvGYLMzdEPL/iqozNGK0eROZ2htIxui2U4pF9mavX73a39evPJTMoQ+DtHfs0QZFaO/JwhyOwc3fLYo77IEPg7R25kKC1FUk/DIW/53W98MVOrn/+og/x688lMyRD4P0d+zRBkTo78niHI3BxdXpnLb15a7/kMgf9z5EaGUl4kxTI51CMvreeSU3JjnlMi0vwmbvPzHzW4N02+2zIpQ+DvHPk1Q5BZOfJzhiCzc3T9qFyw7RjTebnXMgT+zpFbGUp5kRTLcMjLhuZiaAv7eLg3no7uQT//UQf55TRCV5mSIfB/jvyaIcicHPk9Q5D5Obp6eD53rT/U7TGvZAj8nyO3MpTyIulP2//KfRuaMbc2Rvz6+cuHeaOuPezzu77xdHUP+vmPGtJ/08BkZEqGwN858nOGIHNy5OcMQXbk6CcbD7Np55Fuz/VKhsDfOXIzQykf3XbH2B/A2PCPvTn8fO6fdS6v73qP9e8ewdzaGHE7weGMkeY3SUZPV/dHmkE12RELqRTLNPleHV3S08iOs2+5kfVv7/B0hoLr+DlHfs4QZEaO/J4hyOwcBTMERM2R9kXJcTNDrhZJa9ftDbv8zeHnd/q+rm4HNc8uZtPDt3LwwD4K+3yMESMmMq3fCQwoOxaA0ecc2207Tg7NDdXTEEK//1G7NU1+Om3fvZt7Vqzk1y++ROP+JspKyrh01Gf5wYTxDOrXL+Lz0pWh4Dp+zVEmZgj8lyM/ZwgyM0d+y1BwHb/myO0MuXK6bf/+Ntau28ubw88P+xVq69Y1zJ5zEbUtzZRPmcsJ1y2lfMpcaluauWrZT3ksP/xU6+BO92BP3Z1euCtxsrxw00AnPfPaawyrnsWjjSUUT57HCdctpXjyPB5tLGFY9Syeee21iM9NR4ZC1/FrjjItQ+C/HPk9Q5B5OfJbhkLX8WuO3M6QKz1JLYVl3YqhcOrqdrBg4XTKL7yJggGDjy7PL+9P/ugqCgadwYKF0+k38wlYt6VTb5Jb3YM9dXe6cR+eVPPCTQOdsn33bibd/wv6XFgdJkNXkD9oBJPun81rs2d1+xSXrgyFruPXHGVShsCfOfJ7hiCzcuTHDIWu49ccuZ2htN67rebZxRRVju8UqFAFAwZTOHQcq55bzDmfGt7pMTe6B2Pp7syEP2ov3DTQKfesWElB5YSoGTpcOZ57V9Qwv+qyTo+lK0Pg/xxlUobAnznye4Ygs3LkxwyB/3PkdobSWiRt2rSM8ilzo65TVDmejUtugE8NZ+26vYw+51jXzkH2dHsCyKw/6kzw6xdfonjyvKjrFAydwMOPXNdpx5TODIFy5DV+zJEy5C1+zBAoRz1Jy4zbQQcP7COv7Lio6+SVVnCweV+n03dunIP0+zDUbNW4vymmDDUdaOq0TBmSUMqRJEsZykxp7UnqXdyXtoY95Jf3j7hOW2MdvYs6V89udA/6+er+bFbapySmDJUUl3RapgxJKOVIkqUMZaa0FkkjRkykdksN+aOrIq7TXLuSkSMvOPr92nV7He8ezMRhqNni0lGf5dEtK8kffUXEdVq3rOCyUaM6LVOGJJRyJMlShjJTWk+3jTuviubalbTu3Bb28dad22jZUsPYzwWKqFhGzCUi04ahZpMfTBhPa+2KqBlqrV3J9yeMc7UdypC/KUeSLGUoM6W1J6miYiBTr76bBQunUzh0HEWV48krraCtsY7m2pW0bKlh6tV3U1Ex0NV2+P3q/mw2qF8/fnvNNCbdP5vDleMpGDrhaIZat6ygtXYlv71mWtRJ3JygDPmbciTJUoYyk7HWOr7RgQOH2ptueirm9evqdrDqucVs3Licg8376F3Ul5EjL2Ds56q6FUinbH4aCD8Dt6SOufTSV6y1p7u1/dNPPtm+fNttMa+/ffdu7l1Rw8MvvkjTgSZKiku4bNQovj9hnOs7JUmM2xkC5SgbaF8kToiUo7T2JAVVVAxk8qRqJk+q7nHdN4eff7RQEgka1K8f86su6zb/iEg8lCNJljKUWdJ6TZKIiIiIV/mySHpz+PkRb54rIiIi4gRfFkkiIiIibvN1kaTeJBEREXGLb4skt+ZMEhEREQEfF0kiIiIibvJ9kaRTbiIiIuIGXxdJOuUmyVCBLSIi0XhiMkkRN0UrhkIf0yzuIiISKiOKpLXr9uoAJ1GLoZ56HU/Z/PTR5ytLIiICGVAk6TYl2StcUZToKdjg81QsiYhIkO+LpKBovQg62GWOrr9np69LCy2WREQku2VEkRTtQKmeAX/av7/N0Z4iERGReGVEkRRNp4Pquo96B1QweVtLYZkKIhERSauML5JChbvuBFQwiWSq0B5Jt/7Ou/Z4an8ikjmyqkgKCu2h0Ok4kcwV7JFM9u+8pzm1un4A075EJDNkZZEUSqfjRDJfpL9zCPytxzKxaCynf7sWZKGvISL+k/VFUiiNbJJYqOfR3yL1JDt1DVzX7YQrmuKhnImkj4okkRiEnXpg3dM6gPlcKgYHJPMa0QosZU/EfSqSRMIIFkHdlnWhHgJxU6QCS9c+iaSGiiSRCHrqAUi6F0LXwEmCIl37FCvlTTJRIqPWe/obUpEkkiapvBWKprzIPF2voexpUl2NwJNME2nC4UjT/ESfoPjasK+hIkkkzdwaYRm6Q9ABMnPFOuou9P+61kn8KNa7MEQanBFp/WhUJGWpWLvptcNMLScKpmg7hNADpH632UvXOkmqJdqbnez9OpO9LCJqkWSM6RXpMWvtoaReWdJm7bq9MQUn2aHLoAwlI94Z4mP9tOTHQkk5Sg0/ZiNWylB6dN0vxXtcSfftqXrqSdoItALNgAFsyL/nuds0cYNz4Qx//jYMZShJPc0Qn0hXshOzUKeYcpQiRzPU0ZPpg2zEShlKoUj7pXQXPfHqqUj6ITDGWntzKhoj7nJ60rwYKUMOitS7lMjv1GfXKSlHKZaBvUrKkMuSPTXmRVGLJGvtKmNMcaoaI+5JU4GkDLnEyd+jHw6GylF6+LDHMSJlyB2ZWBiF6vHCbWvtU6loiLgnXQVSkDLkfT4plJSjNPBZj2NUypAzMr0wCuX70W11dTuoeXYxmzYt4+CBffQu7suIERMZd14VFRUDE96u33cGQekukPzCrRz5iR8KJS/L9AwpH6mxffdu7lmxkl+/+BKN+5so7VPCpaM+yw8mjGdQv36uvnas16xm0/HE10XS1q1rWLBwOkWV4ymfMpe8suNoa9hD7ZYaNsy5iKlX382QIWPi3q5TO4Nd9fVc9cB8HvrWf3F8374JbydRKpBi41aOnNLQsIeHH7yWy676H8rKKlx9rdCLdnUgjF22ZCiDL+r2hGdee41J9/+CgsoJFE+eR1lHjh7dspLF1bP47TXT+OKwYTFvL5HRydGOF0dzdPJI1/dFXuHbIqmubgcLFk6n/MKbKBgw+Ojy/PL+5I+uomDQGSxYOJ3qmU8k9CkuWCgl467lT7Jp+1vctWwp91RdldS24qUCKTZu58gJq/44n3/8/WVWrZjPxZNuTclrht67TgfC6LIxQ+pVct723buZdP8v6HNhdZgcXUH+oBFMun82CyZey4Cy2H/mTh4D0rEvSrecdDcgUTXPLqaocnynMIUqGDCYwqHjWPXc4oRf483h5yc8T9Cu+noWrVvL6ssLWbRuLe/v25dwO+KlAil2qchRMhoa9rDhpcd59vJCNr70GA0NdSl77WB+kp0rK9Nla4ZC86GMJC7487vuwWX0Gho9R/lDxrFgz7u8Ofz8mL+cks59UTqF7UkyxnwK+I8ui/cCi4BbCMwrMdtae9Dd5kW2adMyyqfMjbpOUeV4Ni65gcmTqpN6rUQ+Ld21/EmuqMxjeP9cqiptynuT0l0g+SFDkNocJWLVH+dzxWm5HTki5Z/g0j26yQ85yuYMRZqSIsgLvUypzlC8BWPwZ7ji4Vt7zFHhaV/IyBx5WaTTbR8C64F7ge8RmHCrGbgT+DPQBMwDvpOCNoZ18MA+8sqOi7pOXmkFB5uT68FJpFs52Iv0xjcDE7zOGJXDkAfWMmPiha5fmxTrbNop4PkMQepylIjgJ7eHvhX4M505yjD4gccYO+E7Kb0eIJU34g3D8zlShsJ/KPPQ1AFJZWj//raEC594KEfeFLZIstZ+ADxvjGmw1q41xhRYa1uNMT+21n4fwBjznyltaRe9i/vS1rCH/PL+Eddpa6yjd1HyRUm81ycFe5H6lwTOZvYvyaGqMs/13iQvdXn7IUOQ2hzFK/jJrXOOctP2CS4dxZIfcqQMheeVqQOSzVBLYVlKPngqR97U0zVJP+/4d74xZgBwJOSxI2HWT5kRIybSsqUm6jrNtSsZOfICR14v1uuTgr1IM0Z1/tHOGJXj6rVJHr4OybMZgtTnKFbBT24zR5lOy2eOMmm/HiD0WocUXo/i2RwpQ9F56Nolz2YIlCOv6qlIetwY8yNgvbV2J517nvLda1bPxp1XRXPtSlp3bgv7eOvObbRsqWHs56ocfd2e/si79iIFhfYmOc3DBRJ4OEOQvhz1pOsnt6DQT3DpluJiybM5UoZ6FnohcTAraSiYPJshUI68KmKRZIxZDrwLFFhrH+pYvNIYM9cYcwvwfAraF1FFxUCmXn039Utvp+H5RRyu34U90sbh+l00PL+I+qW3M/Xqux0dctvTaJ9IvUhBbvQmeblA8nqGID056kmkT25BXvsE53ax5PUcKUPxCZcXtwsmr2cIlCOvilgkWWsvAP4F+Icx5vaOxXcQuNDt79baH6WgfVENGTKG6plPMKy4mPolN/DuPRdTv+QGhhUXUz3zCVcmb4tWjETqRQpyujfJywUS+CNDkJ4cRRPpk1uQVz/BuVUs+SFHylD8ug5Td7NY8kOGQDnyImOt7XklY64BdltrH49lowMHDrU33ZTZt8g5ZXP3GYnPvuVG1r+9o8fnnvXJgbxw6x1JvX66C6Rp0wa9Yq09Pdb1laHY3Tv3At782597XO+Uk0/l+9cvT0GLEhM62CHcRbvm0kvjyhAoR7Hyc4Z6yk1X8eZIGYqdn3MUr0jHtFhn3P450MvZJvlf1xEbyRY+8bwueLcHKQJlKEZ+39kEuTQaTjmKgZ8z1NPcSw5QhmLk5xw5JaYiyVprjTHnAKtcbk9axXODynRNy+/TAkkZypCbnCaiU1aTvNWJcpQ9OYp9H3dtXNvNlgyBcuSEHm9LYgLygBkpaE/abN26htlzLqK2pZnyKXM54bqllE+ZS21LM7PnXMTWrWu6PSfVhYpfCyRlKHKGsk3oCKd4KUfKUbKyJUOgHDklYk+SMeYpAqMBlgAnhSz/G/B2x7dfsda2uNrCFEjmBpXBG4GmqjfJTwWSMuStm5x6SSDHsfUAKEfKUbKyKUOgHDkpWk9SEXBqmOXbrbXjO74yIlBO3KDS7SGsHrrdSDyUoQ7pvsmpzylHHZSjhGVNhkA5clKPp9uywaZNyygcOi7qOkWV49m4MfxFbG7fLd1LtxuR8JLNkAgoR+IM5cg5KpJw5saCbhVKfr0OKdt4+eaU4h/KkThBOXJOIkVSzxMr+UzwxoLRxHJjQacLmQwukJQhcYJyJMnKuAyBcuSkaFMA/AtgCMxKel/I8vDzkzsslUMXR4yYSO2WGvJHR74nTjw3FnRiWoAMKZDSmiFIXY6czpB0ohyFUI4SkjUZAuXISdFuSzLYWnuKtXaMtfZJPgrTRW43KtVDF528saATp90ypEBKa4YgtTny6s0pM4Fy9BHlKDHZlCFQjpwU64zbAHMArLVNLrUFiG/oIuBIZR68seCChdMpHDqOosrx5JVW0NZYR3PtSlq21MR1Y8FkJprMlAIpgpRkCFKfI6czJFF5LkfXTP0pr76+2nP7IonIcxny8jEtm8V077Z4JXOvmyWPzqa2pZnSKN2EDc8v4sSDDbz5l5cw5QM4XP9P2g/uJ6d3H/LLP46t38m0b9wX980A6+p2sOq5xWzcuJyDzfvoXdSXkSMvYOznEusODb0HUThdCyg/FUjx3rstXsneLynWHPVr3MXb2zfTjsUeaiGnsJTCk88gN78XrW+9yNSr744rR05nKJO5nSFIUY7WPEjT5j+Qd+xAz+6LMlmm7Iv8cEzLZJFy5Lki6XvTz6B8ylzyy/tHXOdw/S52LfwOJi+fPsO+SJ/K8eSVHUdbwx72165k/2vPkGMts6qXezYIkQooPxRI4P0dU+w5+jYln5lIn9MmdM7Q6ysoO/M/aN70uCZcc4kfiqR49kclp0/05b7I7zJnX+TvY5rfRcqR56YAiHXoom07xHGX3EL5uVeQX94fk5NLfnl/ys+9guMuuYUjWJb/fn6KWh2/4O0Zun6JM2LO0ZE2ysdc2T1DF1fTsOF39PrUZzXhWhaLPUeHfbsvEndlyzEtU3muSIp16KIpKIo6m2jJsC/yyqsr3Gii+ECsOcopKg37WMGAwfQ5bTztR9o04VoWcyJH2hdlNx3T/C2eC7dTIpahi02bf0/Rp0dF3U6f075A0yvZe3DL9rs/x5Kj/a//keLB50Z8vE/lBN5/+IfYg65f2+lJ2Z4hcChH2hdldY50TEteOjPkmSIp+EPYsGEphw4dpGDQGWGr6tad29i/+RmOv/InUbcX6L487FZzPW3r1jUsWDidosrxlE+Ze/Tcdu2WGjbMuSjui5H9JK4c1dZw/OV3R9xWXmkF7S2NFBaXu9lkT8rmDIHzOdK+KPtypGOaM9KdIU8USaE/hGMum8fhD95lz2M/ok/lOPoM+2K3oYsGMDm5UbfZ1lhHXu+i1LwBD8nmuz/Hk6OGV5ZR/vlpUS+mbGusw/QqzLoJ17I5QxBnjl5eRvnYnnOkfVF25UjHNGd4IUNpvyYp9IdQOrqK/PL+FH1yBMdX3YNtP8L7v5rOP+ZdyIe/nsGw4mKqZz7BGWecT9PmP0TdbtPmP/CZf/9Cit6Fd2Tr3Z/jzdEZn/ky7ft2Rd3m/tf/SA5k3YRr2ZohiD9HlUPHcPiDd6NuU/ui7MqRjmnO8UKG0l4kRfoh5Jf352Of/3+c8N0l9D3zEs488ytMnmz+Oz0AAA+TSURBVFRNRcVALvjytzm4dVXU2UQPbl3FBV/6diregqdk692f483RxPO/Q8uWmqgZanr1aS792s0Z9ym3J9maIYg/R/9x8fXaF0WQrTnSMc05XshQ2oukRH4IFRUD+eY37uPDJ25j33MPcrh+F/ZIG4frd7HvuQf58Inb+OY37su6gxtk792f481RcEba+qW30/D8Q50y9OGz/0fd72Zx+eRZnHXWpFQ031OyNUOQWI60LwovW3OkY5pzvJChtF+TlOgPYciQMfz3jUsDs4kuuaHzbKI3Ls26MAUFh5v2dI1Ept39OZEcDRkyhuqZT4TPUBZP2patGYLEc6R9UXfZmiMd05zjhQylvUhK5odQUTGQyZOqmTyp2s0m+kq23v050RwpQ91la4ZAOXJStuZIxzTneCFDaS+SvPBDSJaX5gEZd14VG+ZcFHW4acuWGsZ23EwxU/g9R8qQNyhHzsnWHClDzvFChtJ+TdK486porl0Z9YK1li01nh1htHXrGmbPuYjalmbKp8zlhOuWUj5lLrUtzcyecxFbt65JaXs6X2uzqNO57YbnF1G/9PaMvPuzn3OkDHmHcuScbM2RMuQcL2TIEze4Dc4pUTh0HEWV47vNIeHVCcfq6nYwe85F3eZwCGrduY36pbenZR4Qt+/+7MWbSvoxR8qQ925wqxw53zY/50gZCsjkDEHkHHmiSILU/BCctuTR2dS2NFMapVu14flFDCsuzrhzzF7cMYH/cqQMea9IAuXIT7QvckY2Zwgi5yjt1yQF+fGCtU2bllE+ZW7UdYoqx7NxyQ2+el9+5rccKUPepBxJspShzJD2a5L8zAtzOIi/KUPiBOVIkqUMhaciKQnBoZ7RZOI8IOIcZUicoBxJspSh8FQkJWHEiIm0bKmJuo6Xh3pK+ilD4gTlSJKlDIWnIikJfh7qKd6gDIkTlCNJljIUnoqkJHhhDgfxN2VInKAcSbKUofA8M7rNr6Le/ysN80mI/yhD4gTlSJKlDHWnIskBfhvqKd6jDIkTlCNJljLUmU63iYiIiIShIklEREQkDBVJIiIiImGoSBIREREJQ0WSiIiISBgpG92Wl9fOySe3UlTUnqqXjEtzcw5/+1sBbW2qG0VERCSFRdLJJ7dywgkfo6SkHGNMql42JtZamprqgQ95663CdDdHREREPCBl3SZFRe2eLJAAjDGUlJR7tpdLREREUi+l55ZiLZDeeWc718+czqBPD6Df8UUM+vQArp85nXfe2Z72tomIiEh28NwFOKtXr+C8cWezbNteSibdyQnTl1Iy6U6WbdvLeePOZvXqFeluooiIiGQBTxVJ77yznW9Mu5KSiTfS55zLyS/vj8nJJb+8P33OuZySiTfyjWlXJtyjdOeds/jKV8by5S+P4c03/+xw60VERCSTeKpIemDB/fQeMp6CAYPDPl4wYDAFQ8bxi//9edzb3rDhBerq9vDUU6uYN+9n3HrrzGSbKyIiIhnMU0XSY4//hoIhY6Ou03vIOB57/Ddxb3vNmlVceOEkAAYP/jf27atPqI0iIiKSHTxVJO1vrCev7Lio6+SVVrC/If4Cp66ujmOOqTj6fW5uLu3tGs0mIiIi4aVsnqRY9Cktp61hD/nl/SOu09ZYR5+y8ri3XVpaRkNIcZWTk0NOjqdqxIjq6nZQ8+xiNm1axsED++hd3JcRIyYy7rwqKioGprt54gPKkDhBOZJk+S1DniqSLrn46yzbuor8cy6PuM7BrTVccvHX4972mWeexfLlSznzzLP5y1+28fGPD+jxOV74ZW7duoYFC6dTVDme8ilzySs7jraGPdRuqWHDnIuYevXdDBkyJiVtkcSkO0fKkP+lO0OgHGWCdOfIjxnyVJH0zanX8NtxZ5N/8ulhL95u3bmN1q01TLv3hbi3PW7cF1m16o9ccMF59OlTwrx587ut097expJHZ7Np0zJaDtRjcnvR67iTKDt/OhUnDEn5L7OubgcLFk6n/MKbOv088sv7kz+6ioJBZ7Bg4XSqZz7hyQo8G3XdCeUX9uHIkSMUn3puWnYKypA/heZI+yJJlJdy5NcMeep800knDeKXv3iIpmV30LRuMYfrd2GPtHG4fhdN6xbTtOwOfvmLhzjppEFxbzsnJ4cf//inLF/+LI888hQDBpzQ6fGWliYaGuqobWmmfMpcTrzuSfpfPZ+CE4ey96m5HHxnM/nl/SkdXUX5hTexYOF06up2OPXWw6p5djFFldFH+xUOHceq5xa72g6Jzdata5g956KjGTrhuqUce9ndFA/7IvvffIG2D3cendIiVTlShvyna460L5JEeC1Hfs2Qp4okgM9/fgLP1rzAV089jv2/m8l791zM/t/N5KunHsezNS/w+c9PcPw129paqdv7LjlFZZSOruo0P1P5uVdw3MXV7P39PRyu3wWk7pe5adMyCoeOi7pOUeV4Nm5c7mo7pGehn5K6ZWjMld0yBKnJkTLkL1FzpH2RxMiLOfJrhjxXJEGgR+nOO+bx9l/e4/33D/D2X97jzjvmJdSDFIvGxg/IKSyF3PywjxcMGEyf08bT9OrTR5el4pd58MC+mEb7HWze52o7pGexfErqmiFwP0fKkL8kkiPti6QrL+bIrxnyZJGUagcONJBTVBp1nT6VEziw7fmj36fil9m7uC9tDXuirtPWWEfvor6utkN6FsunpK4ZAvdzpAz5SyI50r5IuvJijvyaIRVJBC7YNhF6kYLySitob248+n0qfpkjRkykZUtN1HWaa1cycuQFrrZDehbrp6TQDIH7OVKG/CWRHGlfJF15MUd+zZCni6Tdu3fx9YvHsXv3+66+Tk5OHvbI4ajrtDXWdeptSsUvc9x5VTTXrqR157awj7fu3EbLlhrGfq7K1XZIz2L9lNS1x9LtHClD/pJIjrQvkq68mCO/ZsjTRdL8++aw+eUX+dlP5rj6OsXFZd0+4Xe1v3YFxYPPBVL3y6yoGMjUq++mfuntNDy/qNNov4bnF1G/9HamXn23p4ZLZqtYPiWFZghSkyNlyF/izZH2RRKOF3Pk1wx5tkjavXsXv330V6y+vDe/fXSxI71Je/fWcccd/82dd87qtLy09BjaWxohQm9S685t7H99JYWfHJHyX+aQIWOonvkEw4qLqV9yA+/eczH1S25gWHEx1TOf8NzEW9kqlk9J+19bQZ9hX0j5TkEZ8o+YcqR9kfTAqznyY4aMtdbxjQ4cONTedNNTnZYNG3aAk076dMzbqJ75XXpvW8J943L4Xk07radeyo/u+ElMz21ra6Wx8QMOHGigvb2NnJw8iovLuPnmGzn55E/R0tJCdfVtnZ7T0tLEtm2v8vVZv6Socjx5pRW0NdZx4LU/0rj5aWzbYQqLyxk58gLGfs6b06en0rRpg16x1p7u1vbDZSiVEpmZNjibbOHQcZ0y1Fy7gqbNz5Brcjh8qJneRX2VI9zPEGRWjrQvCk/7ovCUo/hEypGnZtwOCvYivTE1F4Drz4Qh/7uYb187k379jo/63JaWpsCcR4Wl5B4zgLzcfOyRwzQ3N3LDzBm8/dd/sH599xm7CwtLKCurYFhxMRuX3MDB5n0fHcxueSbrA5RNEp06P/gpadVzi7tnqHq5MpRlXMmR9kVZJZnbeChHzvBkkTT/vjlUVebSvyRwNrB/SQ6XD4Wf/WRO1N6k4KSQeX37Y3r1Prrc5OaTW3IMOQXF7Gt4mfb2trDPz8nJY/KkaiZPqnb2DYlvJDt1fkXFQGVIlCNJmhO38VCOkue5a5KCvUjXn9l5+fVn0uO1ScFJIUMLpFCmV29yCoo4dKjFySZLBvHr1PniLcqRJEsZ8gbPFUlde5GCAr1JuVFHusUyKaQpKObQoVZH2iqZx69T54u3KEeSLGXIGzxVJEXqRQrqqTcplkkhTU4e1rYn21TJUH6dOl+8RTmSZClD3uCpIilSL1JQT71JsUwKefrIkVx77feTbqtkJr9OnS/eohxJspQhb/DUhduvvbqRjZv385MXo683smVD2OXFxWU0NzeSW3JMxOe2NzdSXFyWTDMlg40YMZHaLTXkj448qZoXp84Xb1GOJFnKkDd4qidp+YqN7NlzsMev5Ss2hn1+cFJIe+hg2MftoYO0tzRSWhq5iJLs5tep88VblCNJljLkDSktktyYuDJUXl4BFceeQNu+XRxp+iBw6s2CPXKYI00f0LZvFxXHnkBeXkHK2yb+4Nep88VblCNJljLkDSk73dbcnENTUz0lJeUYY1x7ncLCEj7ef1Bgxu0Pdnaacbu0/6CIBVJTUz3NzZ7qWJM0iToJW5Q5SURCKUeSLGUo/VJWJP3tbwXAhxQV7U3VSwK5QC7t7dDQsJ+Ghv0R12xuzuloo4gmYRNnKEeSLGUovVJWJLW15fDWW4WpejkRERGRpOj8koiIiEgYKpJEREREwlCRJCIiIhKGcWPouzGmDtjh+IbFSwZaayvc2rgylBVczRAoR1lC+yJxQtgcuVIkiYiIiPidTreJiIiIhKEiSURERCQMFUkOM8Yca4z5dLrbIf6lDIkTlCNJljKUwskk/cQY8ybwXpfFLdbabrdbNsY8ba09P2TREOBs4DYXmygepwyJE5QjSZYylBz1JIVnCBSQoV/vdlvJmFzgdGNMvjHma8aYNcB9ETdqzL8aY1YbY9YbY37sTtPFI5QhcYJyJMlShpKg0W1hGGPWAjeGeegla+2RkPW+AwwEWq21N3csGwOcba3tVnkbY54BvmWt/bsx5nfAPGvtRjfeg6SXMiROUI4kWcpQctSTFN69wCfCfOUAGGNyjDHfBgZYa38IbDfG/J8xJuLN6YwxeUBva+3fOxY9DnzWldaLFyhD4gTlSJKlDCVB1ySFMMZ8HpgZZZUrjTF3AWuBPdbanwFYax80xtRYa1uMMc3A3jDPrQA+CPn+A2CwQ00Xj1CGxAnKkSRLGXKGiqQQ1trVwOoYV/+dMSaHQDfmeOBIxzndzcANYdbfB/QN+b4cqEuiueJBypA4QTmSZClDzlCR1IUxphR4IsxDg6y1J3VZVgWUAWOste0dz58K/DddKviOqrzAGDPAWrsTuAi41fE3IGmnDIkTlCNJljKUPBVJXVhrG4GxXZcbY1ZFeEpzMFAdmqJs/gfAY8aYVmCZtXZb4i0Vr1KGxAnKkSRLGUqeRrfFyBizylo7tssyQ6DKPhdoA3KBvwDXWWubU99K8TJlSJygHEmylKHYqUiKkTGm2Fp7IN3tEP9ShsQJypEkSxmKnYokERERkTA0T5KIiIhIGCqSRERERMJQkSQiIiIShookERERkTBUJImIiIiE8f8Bcu8oD2xajAoAAAAASUVORK5CYII=\n",
      "text/plain": [
       "<Figure size 720x216 with 4 Axes>"
      ]
     },
     "metadata": {},
     "output_type": "display_data"
    }
   ],
   "source": [
    "fig, axes = plt.subplots(1,4,figsize=(10,3))\n",
    "\n",
    "for n_neighbors, ax in zip([1,3,9,20], axes):\n",
    "    clf = KNeighborsClassifier(n_neighbors=n_neighbors).fit(x, y)\n",
    "    mglearn.plots.plot_2d_separator(clf, x, fill=True, eps=0.5, ax=ax, alpha=0.4)\n",
    "    mglearn.discrete_scatter(x[:,0], x[:,1], y, ax=ax)\n",
    "    ax.set_title(\"{} 이웃\".format(n_neighbors))\n",
    "    ax.set_xlabel('특성 0')\n",
    "    ax.set_ylabel('특성 1')\n",
    "axes[0].legend(loc=3)"
   ]
  },
  {
   "cell_type": "code",
   "execution_count": null,
   "metadata": {},
   "outputs": [],
   "source": []
  }
 ],
 "metadata": {
  "kernelspec": {
   "display_name": "Python 3",
   "language": "python",
   "name": "python3"
  },
  "language_info": {
   "codemirror_mode": {
    "name": "ipython",
    "version": 3
   },
   "file_extension": ".py",
   "mimetype": "text/x-python",
   "name": "python",
   "nbconvert_exporter": "python",
   "pygments_lexer": "ipython3",
   "version": "3.8.3"
  }
 },
 "nbformat": 4,
 "nbformat_minor": 4
}
