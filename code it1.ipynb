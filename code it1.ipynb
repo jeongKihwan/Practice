{
 "cells": [
  {
   "cell_type": "code",
   "execution_count": 49,
   "id": "3e3de30c",
   "metadata": {},
   "outputs": [],
   "source": [
    "import pandas as pd\n",
    "import numpy as np"
   ]
  },
  {
   "cell_type": "code",
   "execution_count": 50,
   "id": "bdbc1d25",
   "metadata": {},
   "outputs": [],
   "source": [
    "df = pd.read_csv('data/여행지.csv')"
   ]
  },
  {
   "cell_type": "code",
   "execution_count": 51,
   "id": "a15adbb9",
   "metadata": {},
   "outputs": [
    {
     "data": {
      "text/html": [
       "<div>\n",
       "<style scoped>\n",
       "    .dataframe tbody tr th:only-of-type {\n",
       "        vertical-align: middle;\n",
       "    }\n",
       "\n",
       "    .dataframe tbody tr th {\n",
       "        vertical-align: top;\n",
       "    }\n",
       "\n",
       "    .dataframe thead th {\n",
       "        text-align: right;\n",
       "    }\n",
       "</style>\n",
       "<table border=\"1\" class=\"dataframe\">\n",
       "  <thead>\n",
       "    <tr style=\"text-align: right;\">\n",
       "      <th></th>\n",
       "      <th>Unnamed: 0</th>\n",
       "      <th>City / Urban area</th>\n",
       "      <th>Country</th>\n",
       "      <th>Population</th>\n",
       "      <th>Land area (in sqKm)</th>\n",
       "    </tr>\n",
       "  </thead>\n",
       "  <tbody>\n",
       "    <tr>\n",
       "      <th>0</th>\n",
       "      <td>0</td>\n",
       "      <td>Buenos Aires</td>\n",
       "      <td>Argentina</td>\n",
       "      <td>11200000</td>\n",
       "      <td>2266</td>\n",
       "    </tr>\n",
       "    <tr>\n",
       "      <th>1</th>\n",
       "      <td>1</td>\n",
       "      <td>Melbourne</td>\n",
       "      <td>Australia</td>\n",
       "      <td>3162000</td>\n",
       "      <td>2080</td>\n",
       "    </tr>\n",
       "    <tr>\n",
       "      <th>2</th>\n",
       "      <td>2</td>\n",
       "      <td>Sydney</td>\n",
       "      <td>Australia</td>\n",
       "      <td>3502000</td>\n",
       "      <td>1687</td>\n",
       "    </tr>\n",
       "  </tbody>\n",
       "</table>\n",
       "</div>"
      ],
      "text/plain": [
       "   Unnamed: 0 City / Urban area    Country  Population  Land area (in sqKm)\n",
       "0           0      Buenos Aires  Argentina    11200000                 2266\n",
       "1           1         Melbourne  Australia     3162000                 2080\n",
       "2           2            Sydney  Australia     3502000                 1687"
      ]
     },
     "execution_count": 51,
     "metadata": {},
     "output_type": "execute_result"
    }
   ],
   "source": [
    "df.head(3)"
   ]
  },
  {
   "cell_type": "code",
   "execution_count": 52,
   "id": "1ae2c248",
   "metadata": {},
   "outputs": [
    {
     "name": "stdout",
     "output_type": "stream",
     "text": [
      "<class 'pandas.core.frame.DataFrame'>\n",
      "RangeIndex: 249 entries, 0 to 248\n",
      "Data columns (total 5 columns):\n",
      " #   Column               Non-Null Count  Dtype \n",
      "---  ------               --------------  ----- \n",
      " 0   Unnamed: 0           249 non-null    int64 \n",
      " 1   City / Urban area    249 non-null    object\n",
      " 2   Country              249 non-null    object\n",
      " 3   Population           249 non-null    int64 \n",
      " 4   Land area (in sqKm)  249 non-null    int64 \n",
      "dtypes: int64(3), object(2)\n",
      "memory usage: 9.9+ KB\n"
     ]
    }
   ],
   "source": [
    "df.info()"
   ]
  },
  {
   "cell_type": "code",
   "execution_count": 53,
   "id": "d459cda1",
   "metadata": {},
   "outputs": [
    {
     "data": {
      "text/plain": [
       "0          Buenos Aires\n",
       "1             Melbourne\n",
       "2                Sydney\n",
       "3              Brisbane\n",
       "4                 Perth\n",
       "             ...       \n",
       "244              Canton\n",
       "245             Spokane\n",
       "246            Tashkent\n",
       "247    Ho Chi Minh City\n",
       "248              Harare\n",
       "Name: City / Urban area, Length: 249, dtype: object"
      ]
     },
     "execution_count": 53,
     "metadata": {},
     "output_type": "execute_result"
    }
   ],
   "source": [
    "df['City / Urban area']"
   ]
  },
  {
   "cell_type": "code",
   "execution_count": 54,
   "id": "7b55beb0",
   "metadata": {},
   "outputs": [
    {
     "data": {
      "text/plain": [
       "array(['Buenos Aires', 'Melbourne', 'Sydney', 'Brisbane', 'Perth',\n",
       "       'Adelaide', 'Gold Coast', 'Vienna', 'Baku/Sumqayit', 'Brussels',\n",
       "       'Antwerp', 'Sao Paulo', 'Rio de Janeiro', 'Belo Horizonte',\n",
       "       'Curitiba', 'Brasilia', 'Fortaleza', 'Porto Alegre', 'Campinas',\n",
       "       'Goiania', 'Recife', 'Phnom Penh', 'Montreal.', 'Toronto',\n",
       "       'Vancouver', 'Edmonton', 'Calgary', 'Quebec', 'Ottawa/Hull',\n",
       "       'Winnipeg', 'St. Catharines', 'Santiago', 'Beijing', 'Shanghai',\n",
       "       'Shenzhen', 'Shenyang', 'Tianjin', 'Dalian', 'Bogota', 'Kinshasa',\n",
       "       'Lumumbashi', 'Copenhagen', 'Quito', 'Cairo', 'Helsinki', 'Paris',\n",
       "       'Marseille', 'Bordeaux', 'Lyon', 'Toulouse', 'Nice', 'Toulon',\n",
       "       'Avignon', 'Valenciennes', 'Douai/Lens', 'Nantes', 'Lille', 'Pau',\n",
       "       'Tours', 'Bethune', 'Essen/Düsseldorf', 'Berlin', 'Frankfurt',\n",
       "       'Hamburg', 'Cologne/Bonn', 'Munich', 'Stuttgart', 'Aachen',\n",
       "       'Accra', 'Athens', 'Budapest', 'Delhi', 'Hyderabad', 'Bangalore',\n",
       "       'Kolkata', 'Mumbai', 'Chennai', 'Jakarta', 'Tehran', 'Baghdad',\n",
       "       'Dublin', 'Tel Aviv', 'Milan', 'Rome', 'Naples', 'Turin',\n",
       "       'Tokyo/Yokohama', 'Nagoya', 'Osaka/Kobe/Kyoto', 'Fukuoka',\n",
       "       'Sapporo', 'Kuwait', 'Beirut', 'Kuala Lumpur', 'Mexico City',\n",
       "       'Guadalajara', 'Monterey', 'Rotterdam', 'Auckland', 'Lagos',\n",
       "       'Lahore', 'Karachi', 'Lima', 'Manila', 'Katowice', 'Warsaw',\n",
       "       'Lisbon', 'Porto', 'San Juan', 'Aguadilla', 'Moscow',\n",
       "       'St Petersburg', 'Nizhni Novgorod', 'Arabia', 'Riyadh', 'Jeddah',\n",
       "       'Singapore', 'Johannesburg/East Rand', 'Durban', 'Cape Town',\n",
       "       'Pretoria', 'Vereeniging', 'Port Elizabeth', 'Seoul/Incheon',\n",
       "       'Madrid', 'Barcelona', 'Khartoum', 'Stockholm', 'Taichung',\n",
       "       'Taipei', 'Bangkok', 'Istanbul', 'Ankara', 'Abu Dhabi', 'Dubai',\n",
       "       'London', 'Birmingham', 'Manchester', 'Leeds/Bradford', 'Glasgow',\n",
       "       'Donetsk', 'New York Metro', 'Chicago', 'Atlanta', 'Philadelphia',\n",
       "       'Boston', 'Los Angeles', 'Dallas/Fort Worth', 'Houston', 'Detroit',\n",
       "       'Washington', 'Miami', 'Seattle', 'Minneapolis/St. Paul',\n",
       "       'Pittsburgh', 'St. Louis', 'Tampa//St. Petersburg', 'Phoenix/Mesa',\n",
       "       'San Diego', 'Baltimore', 'Cincinnati', 'Cleveland', 'Kansas City',\n",
       "       'Indianapolis', 'San Francisco//Oakland', 'Virginia Beach',\n",
       "       'Providence', 'Denver', 'Milwaukee', 'Portland', 'Hartford',\n",
       "       'Bridgeport//Stamford', 'Orlando', 'Riverside/San Bernardino',\n",
       "       'Richmond', 'Charlotte', 'Nashville', 'Jacksonville',\n",
       "       'San Antonio', 'Memphis', 'Columbus', 'Louisville', 'Sacramento',\n",
       "       'Buffalo', 'Knoxville', 'Dayton', 'Oklahoma City', 'Raleigh',\n",
       "       'Austin', 'McAllen', 'Springfield', 'Akron', 'Rochester', 'Tucson',\n",
       "       'Chattanooga', 'Allentown/Bethlehem', 'Barnstable Town',\n",
       "       'Las Vegas', 'New Haven', 'Albany', 'Baton Rouge',\n",
       "       'Sarasota//Bradenton', 'Columbia', 'Poughkeepsie', 'Tulsa',\n",
       "       'San Jose', 'Grand Rapids', 'Winston/Salem', 'Worcester',\n",
       "       'Augusta', 'Flint', 'Charleston', 'Salt Lake City', 'Youngstown',\n",
       "       'Greenville', 'Omaha', 'Albuquerque', 'Palm Bay', 'El Paso',\n",
       "       'Pensacola', 'Hickory', 'Mobile', 'Harrisburg', 'Asheville',\n",
       "       'Little Rock', 'Toledo', 'Lancaster', 'New Orleans',\n",
       "       'Colorado Springs', 'Cape Coral', 'Ogden', 'Syracuse', 'Wichita',\n",
       "       'Concord', 'Port St Lucie', 'Fayetteville', 'Jackson', 'Scranton',\n",
       "       'Huntsville', 'Durham', 'South Bend', 'Shreveport', 'Honolulu',\n",
       "       'Bonita Springs / Naples', 'Canton', 'Spokane', 'Tashkent',\n",
       "       'Ho Chi Minh City', 'Harare'], dtype=object)"
      ]
     },
     "execution_count": 54,
     "metadata": {},
     "output_type": "execute_result"
    }
   ],
   "source": [
    "df['City / Urban area'].unique()"
   ]
  },
  {
   "cell_type": "code",
   "execution_count": 55,
   "id": "894386fa",
   "metadata": {},
   "outputs": [
    {
     "data": {
      "text/plain": [
       "Buenos Aires            1\n",
       "Bridgeport//Stamford    1\n",
       "San Diego               1\n",
       "Baltimore               1\n",
       "Cincinnati              1\n",
       "                       ..\n",
       "Osaka/Kobe/Kyoto        1\n",
       "Fukuoka                 1\n",
       "Sapporo                 1\n",
       "Kuwait                  1\n",
       "Harare                  1\n",
       "Name: City / Urban area, Length: 249, dtype: int64"
      ]
     },
     "execution_count": 55,
     "metadata": {},
     "output_type": "execute_result"
    }
   ],
   "source": [
    "df['City / Urban area'].value_counts()"
   ]
  },
  {
   "cell_type": "code",
   "execution_count": 56,
   "id": "316ace1a",
   "metadata": {},
   "outputs": [
    {
     "data": {
      "text/plain": [
       "0      False\n",
       "1      False\n",
       "2      False\n",
       "3      False\n",
       "4      False\n",
       "       ...  \n",
       "244    False\n",
       "245    False\n",
       "246    False\n",
       "247    False\n",
       "248    False\n",
       "Name: Land area (in sqKm), Length: 249, dtype: bool"
      ]
     },
     "execution_count": 56,
     "metadata": {},
     "output_type": "execute_result"
    }
   ],
   "source": [
    "df['Land area (in sqKm)'] >= 10000"
   ]
  },
  {
   "cell_type": "code",
   "execution_count": 57,
   "id": "d127fe9d",
   "metadata": {},
   "outputs": [
    {
     "data": {
      "text/plain": [
       "array([2266, 2080, 1687, 1603,  964,  729,  383,  453,  544,  712,  596,\n",
       "       1968, 1580,  868,  648,  583,  492,  479,  376,  518, 1740, 1655,\n",
       "       1120,  850,  702,  669,  490,  446,  389,  748,  746,  466,  469,\n",
       "        427,  816, 1295, 2723, 1204, 1057,  954,  808,  721,  713,  508,\n",
       "        507,  489,  476,  474,  450,  421,  390, 2642,  984,  829,  414,\n",
       "        401,  684,  534,  531,  484, 1360,  686,  365, 1554,  842,  500,\n",
       "       6993, 2875, 2564, 1606, 2072,  738,  622, 1399,  881, 2309,  620,\n",
       "       2150,  505,  673, 1101,  777, 2396, 1049,  945,  803,  510, 1010,\n",
       "       1166, 1623,  600,  558,  370,  368,  451, 8683, 5498, 5083, 4661,\n",
       "       4497, 4320, 3644, 3355, 3267, 2996, 2891, 2470, 2316, 2208, 2147,\n",
       "       2078, 2069, 2026, 1768, 1676, 1514, 1432, 1365, 1364, 1304, 1292,\n",
       "       1261, 1228, 1216, 1205, 1174, 1136, 1131, 1126, 1116, 1063, 1056,\n",
       "       1036, 1030, 1013,  956,  950,  879,  838,  835,  828,  824,  813,\n",
       "        800,  797,  764,  755,  751,  750,  741,  739,  736,  727,  700,\n",
       "        697,  677,  674,  667,  651,  599,  598,  591,  587,  586,  580,\n",
       "        569,  568,  546,  540,  536,  532,  524,  517,  512,  511,  497,\n",
       "        465,  457,  438,  433,  417,  411,  407,  406,  404,  399,  372,\n",
       "        371], dtype=int64)"
      ]
     },
     "execution_count": 57,
     "metadata": {},
     "output_type": "execute_result"
    }
   ],
   "source": [
    "df['Land area (in sqKm)'].unique()"
   ]
  },
  {
   "cell_type": "code",
   "execution_count": 58,
   "id": "0bf87a13",
   "metadata": {},
   "outputs": [
    {
     "data": {
      "text/plain": [
       "Unnamed: 0  City / Urban area  Country      Population  Land area (in sqKm)\n",
       "32          Beijing            China        8614000     748                    1\n",
       "76          Chennai            India        5950000     414                    1\n",
       "123         Seoul/Incheon      South Korea  17500000    1049                   1\n",
       "103         Manila             Philippines  14750000    1399                   1\n",
       "102         Lima               Peru         7000000     596                    1\n",
       "101         Karachi            Pakistan     9800000     518                    1\n",
       "99          Lagos              Nigeria      13400000    738                    1\n",
       "78          Tehran             Iran         7250000     686                    1\n",
       "77          Jakarta            Indonesia    14250000    1360                   1\n",
       "75          Mumbai             India        14350000    484                    1\n",
       "33          Shanghai           China        10000000    746                    1\n",
       "74          Kolkata            India        12700000    531                    1\n",
       "73          Bangalore          India        5400000     534                    1\n",
       "71          Delhi              India        14300000    1295                   1\n",
       "39          Kinshasa           Congo        5000000     469                    1\n",
       "38          Bogota             Colombia     7000000     518                    1\n",
       "36          Tianjin            China        4750000     453                    1\n",
       "34          Shenzhen           China        8000000     466                    1\n",
       "129         Taipei             Taiwan       5700000     376                    1\n",
       "dtype: int64"
      ]
     },
     "execution_count": 58,
     "metadata": {},
     "output_type": "execute_result"
    }
   ],
   "source": [
    "df[np.array(df['Population'] ) / np.array(df['Land area (in sqKm)']) > 10000].value_counts()"
   ]
  },
  {
   "cell_type": "code",
   "execution_count": 59,
   "id": "737adc74",
   "metadata": {},
   "outputs": [
    {
     "ename": "NameError",
     "evalue": "name 'dfdf' is not defined",
     "output_type": "error",
     "traceback": [
      "\u001b[1;31m---------------------------------------------------------------------------\u001b[0m",
      "\u001b[1;31mNameError\u001b[0m                                 Traceback (most recent call last)",
      "\u001b[1;32m~\\AppData\\Local\\Temp\\ipykernel_484\\3837769340.py\u001b[0m in \u001b[0;36m<module>\u001b[1;34m\u001b[0m\n\u001b[1;32m----> 1\u001b[1;33m \u001b[0mdfdf\u001b[0m\u001b[1;33m[\u001b[0m\u001b[1;34m'Population'\u001b[0m\u001b[1;33m]\u001b[0m \u001b[1;33m/\u001b[0m \u001b[0mdf\u001b[0m\u001b[1;33m[\u001b[0m\u001b[1;34m'Land area (in sqKm)'\u001b[0m\u001b[1;33m]\u001b[0m\u001b[1;33m\u001b[0m\u001b[1;33m\u001b[0m\u001b[0m\n\u001b[0m",
      "\u001b[1;31mNameError\u001b[0m: name 'dfdf' is not defined"
     ]
    }
   ],
   "source": [
    "dfdf['Population'] / df['Land area (in sqKm)']"
   ]
  },
  {
   "cell_type": "code",
   "execution_count": 60,
   "id": "e1feb0d8",
   "metadata": {},
   "outputs": [
    {
     "data": {
      "text/html": [
       "<div>\n",
       "<style scoped>\n",
       "    .dataframe tbody tr th:only-of-type {\n",
       "        vertical-align: middle;\n",
       "    }\n",
       "\n",
       "    .dataframe tbody tr th {\n",
       "        vertical-align: top;\n",
       "    }\n",
       "\n",
       "    .dataframe thead th {\n",
       "        text-align: right;\n",
       "    }\n",
       "</style>\n",
       "<table border=\"1\" class=\"dataframe\">\n",
       "  <thead>\n",
       "    <tr style=\"text-align: right;\">\n",
       "      <th></th>\n",
       "      <th>Unnamed: 0</th>\n",
       "      <th>City / Urban area</th>\n",
       "      <th>Country</th>\n",
       "      <th>Population</th>\n",
       "      <th>Land area (in sqKm)</th>\n",
       "    </tr>\n",
       "  </thead>\n",
       "  <tbody>\n",
       "    <tr>\n",
       "      <th>0</th>\n",
       "      <td>0</td>\n",
       "      <td>Buenos Aires</td>\n",
       "      <td>Argentina</td>\n",
       "      <td>11200000</td>\n",
       "      <td>2266</td>\n",
       "    </tr>\n",
       "    <tr>\n",
       "      <th>1</th>\n",
       "      <td>1</td>\n",
       "      <td>Melbourne</td>\n",
       "      <td>Australia</td>\n",
       "      <td>3162000</td>\n",
       "      <td>2080</td>\n",
       "    </tr>\n",
       "    <tr>\n",
       "      <th>2</th>\n",
       "      <td>2</td>\n",
       "      <td>Sydney</td>\n",
       "      <td>Australia</td>\n",
       "      <td>3502000</td>\n",
       "      <td>1687</td>\n",
       "    </tr>\n",
       "    <tr>\n",
       "      <th>3</th>\n",
       "      <td>3</td>\n",
       "      <td>Brisbane</td>\n",
       "      <td>Australia</td>\n",
       "      <td>1508000</td>\n",
       "      <td>1603</td>\n",
       "    </tr>\n",
       "    <tr>\n",
       "      <th>4</th>\n",
       "      <td>4</td>\n",
       "      <td>Perth</td>\n",
       "      <td>Australia</td>\n",
       "      <td>1177000</td>\n",
       "      <td>964</td>\n",
       "    </tr>\n",
       "  </tbody>\n",
       "</table>\n",
       "</div>"
      ],
      "text/plain": [
       "   Unnamed: 0 City / Urban area    Country  Population  Land area (in sqKm)\n",
       "0           0      Buenos Aires  Argentina    11200000                 2266\n",
       "1           1         Melbourne  Australia     3162000                 2080\n",
       "2           2            Sydney  Australia     3502000                 1687\n",
       "3           3          Brisbane  Australia     1508000                 1603\n",
       "4           4             Perth  Australia     1177000                  964"
      ]
     },
     "execution_count": 60,
     "metadata": {},
     "output_type": "execute_result"
    }
   ],
   "source": [
    "df.head()"
   ]
  },
  {
   "cell_type": "code",
   "execution_count": 66,
   "id": "506ba09f",
   "metadata": {},
   "outputs": [
    {
     "data": {
      "text/plain": [
       "USA            105\n",
       "France          15\n",
       "Brazil          10\n",
       "Canada           9\n",
       "Germany          8\n",
       "              ... \n",
       "Israel           1\n",
       "Kuwait           1\n",
       "Malaysia         1\n",
       "Netherlands      1\n",
       "Zimbabwe         1\n",
       "Name: Country, Length: 61, dtype: int64"
      ]
     },
     "execution_count": 66,
     "metadata": {},
     "output_type": "execute_result"
    }
   ],
   "source": [
    "df['Country'].value_counts()"
   ]
  },
  {
   "cell_type": "code",
   "execution_count": 62,
   "id": "b2f566db",
   "metadata": {},
   "outputs": [
    {
     "data": {
      "text/plain": [
       "Italy    4\n",
       "Name: Country, dtype: int64"
      ]
     },
     "execution_count": 62,
     "metadata": {},
     "output_type": "execute_result"
    }
   ],
   "source": [
    "df1[df1 == 4]"
   ]
  },
  {
   "cell_type": "code",
   "execution_count": 63,
   "id": "e2a75ad1",
   "metadata": {},
   "outputs": [
    {
     "data": {
      "text/plain": [
       "USA            105\n",
       "France          15\n",
       "Brazil          10\n",
       "Canada           9\n",
       "Germany          8\n",
       "              ... \n",
       "Israel           1\n",
       "Kuwait           1\n",
       "Malaysia         1\n",
       "Netherlands      1\n",
       "Zimbabwe         1\n",
       "Name: Country, Length: 61, dtype: int64"
      ]
     },
     "execution_count": 63,
     "metadata": {},
     "output_type": "execute_result"
    }
   ],
   "source": [
    "df1"
   ]
  },
  {
   "cell_type": "code",
   "execution_count": null,
   "id": "0e655af1",
   "metadata": {},
   "outputs": [],
   "source": []
  }
 ],
 "metadata": {
  "kernelspec": {
   "display_name": "Python 3 (ipykernel)",
   "language": "python",
   "name": "python3"
  },
  "language_info": {
   "codemirror_mode": {
    "name": "ipython",
    "version": 3
   },
   "file_extension": ".py",
   "mimetype": "text/x-python",
   "name": "python",
   "nbconvert_exporter": "python",
   "pygments_lexer": "ipython3",
   "version": "3.9.13"
  }
 },
 "nbformat": 4,
 "nbformat_minor": 5
}
