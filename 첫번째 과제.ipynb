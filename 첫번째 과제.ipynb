{
 "cells": [
  {
   "cell_type": "code",
   "execution_count": 1,
   "metadata": {},
   "outputs": [
    {
     "name": "stdout",
     "output_type": "stream",
     "text": [
      "Is Wed on 'days' list? True\n",
      "The fourth item in 'days' is: Thu\n",
      "['Mon', 'Tue', 'Wed', 'Thu', 'Fri', 'Sat', 'Sun', 'Sat']\n",
      "['Tue', 'Wed', 'Thu', 'Fri', 'Sat', 'Sun', 'Sat']\n"
     ]
    }
   ],
   "source": [
    "\"\"\"\n",
    "As you can see, the code is broken.\n",
    "Create the missing functions, use default arguments.\n",
    "Sometimes you have to use 'return' and sometimes you dont.\n",
    "Start by creating the functions\n",
    "\"\"\"\n",
    "\n",
    "\n",
    "def is_on_list(days, a):\n",
    "    if a in days:\n",
    "        result = True\n",
    "    else:\n",
    "        result = False\n",
    "    return result\n",
    "\n",
    "\n",
    "def get_x(days, b):\n",
    "    for i in days:\n",
    "        result = days[b]\n",
    "        return result\n",
    "\n",
    "\n",
    "def add_x(days, c):\n",
    "    days.append(c)\n",
    "\n",
    "\n",
    "def remove_x(days, d):\n",
    "    days.remove(d)\n",
    "\n",
    "\n",
    "# \\/\\/\\/\\/\\/\\/\\  DO NOT TOUCH AREA  \\/\\/\\/\\/\\/\\/\\ #\n",
    "\n",
    "days = [\"Mon\", \"Tue\", \"Wed\", \"Thu\", \"Fri\", \"Sat\", \"Sun\"]\n",
    "\n",
    "print(\"Is Wed on 'days' list?\", is_on_list(days, \"Wed\"))\n",
    "\n",
    "print(\"The fourth item in 'days' is:\", get_x(days, 3))\n",
    "\n",
    "add_x(days, \"Sat\")\n",
    "print(days)\n",
    "\n",
    "remove_x(days, \"Mon\")\n",
    "print(days)\n",
    "\n",
    "# /\\/\\/\\/\\/\\/\\/\\ END DO NOT TOUCH AREA /\\/\\/\\/\\/\\/\\/\\ #\n"
   ]
  },
  {
   "cell_type": "code",
   "execution_count": null,
   "metadata": {},
   "outputs": [],
   "source": []
  }
 ],
 "metadata": {
  "kernelspec": {
   "display_name": "Python 3",
   "language": "python",
   "name": "python3"
  },
  "language_info": {
   "codemirror_mode": {
    "name": "ipython",
    "version": 3
   },
   "file_extension": ".py",
   "mimetype": "text/x-python",
   "name": "python",
   "nbconvert_exporter": "python",
   "pygments_lexer": "ipython3",
   "version": "3.8.3"
  }
 },
 "nbformat": 4,
 "nbformat_minor": 4
}
