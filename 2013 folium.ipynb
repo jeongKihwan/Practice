{
 "cells": [
  {
   "cell_type": "code",
   "execution_count": 1,
   "metadata": {},
   "outputs": [],
   "source": [
    "import pandas as pd\n",
    "import numpy as np\n",
    "import matplotlib.pyplot as plt\n",
    "import seaborn as sns\n",
    "import folium\n",
    "from folium.plugins import MarkerCluster"
   ]
  },
  {
   "cell_type": "code",
   "execution_count": 2,
   "metadata": {
    "scrolled": true
   },
   "outputs": [
    {
     "data": {
      "text/html": [
       "<div>\n",
       "<style scoped>\n",
       "    .dataframe tbody tr th:only-of-type {\n",
       "        vertical-align: middle;\n",
       "    }\n",
       "\n",
       "    .dataframe tbody tr th {\n",
       "        vertical-align: top;\n",
       "    }\n",
       "\n",
       "    .dataframe thead th {\n",
       "        text-align: right;\n",
       "    }\n",
       "</style>\n",
       "<table border=\"1\" class=\"dataframe\">\n",
       "  <thead>\n",
       "    <tr style=\"text-align: right;\">\n",
       "      <th></th>\n",
       "      <th>Unnamed: 0</th>\n",
       "      <th>학교명</th>\n",
       "      <th>2013(총합)</th>\n",
       "      <th>2013(수시)</th>\n",
       "      <th>2013(정시)</th>\n",
       "      <th>위도</th>\n",
       "      <th>경도</th>\n",
       "      <th>주소</th>\n",
       "    </tr>\n",
       "  </thead>\n",
       "  <tbody>\n",
       "    <tr>\n",
       "      <th>0</th>\n",
       "      <td>2</td>\n",
       "      <td>대원외고</td>\n",
       "      <td>83</td>\n",
       "      <td>39</td>\n",
       "      <td>44</td>\n",
       "      <td>37.563696</td>\n",
       "      <td>127.086938</td>\n",
       "      <td>서울특별시 광진구 중곡4동 용마산로22길 26</td>\n",
       "    </tr>\n",
       "    <tr>\n",
       "      <th>1</th>\n",
       "      <td>3</td>\n",
       "      <td>상산고</td>\n",
       "      <td>52</td>\n",
       "      <td>24</td>\n",
       "      <td>28</td>\n",
       "      <td>35.804418</td>\n",
       "      <td>127.116505</td>\n",
       "      <td>전라북도 전주시 완산구 효자동1가 거마평로 130</td>\n",
       "    </tr>\n",
       "    <tr>\n",
       "      <th>2</th>\n",
       "      <td>0</td>\n",
       "      <td>외대부고</td>\n",
       "      <td>45</td>\n",
       "      <td>25</td>\n",
       "      <td>20</td>\n",
       "      <td>37.330141</td>\n",
       "      <td>127.253816</td>\n",
       "      <td>경기도 용인시 처인구 모현면 왕산리 232</td>\n",
       "    </tr>\n",
       "    <tr>\n",
       "      <th>3</th>\n",
       "      <td>1</td>\n",
       "      <td>하나고</td>\n",
       "      <td>44</td>\n",
       "      <td>42</td>\n",
       "      <td>2</td>\n",
       "      <td>37.641704</td>\n",
       "      <td>126.935000</td>\n",
       "      <td>서울특별시 은평구 진관동 연서로 535</td>\n",
       "    </tr>\n",
       "    <tr>\n",
       "      <th>4</th>\n",
       "      <td>7</td>\n",
       "      <td>민사고</td>\n",
       "      <td>42</td>\n",
       "      <td>40</td>\n",
       "      <td>2</td>\n",
       "      <td>37.459916</td>\n",
       "      <td>128.140988</td>\n",
       "      <td>강원도 횡성군 안흥면 봉화로 800</td>\n",
       "    </tr>\n",
       "  </tbody>\n",
       "</table>\n",
       "</div>"
      ],
      "text/plain": [
       "   Unnamed: 0   학교명  2013(총합)  2013(수시)  2013(정시)         위도          경도  \\\n",
       "0           2  대원외고        83        39        44  37.563696  127.086938   \n",
       "1           3   상산고        52        24        28  35.804418  127.116505   \n",
       "2           0  외대부고        45        25        20  37.330141  127.253816   \n",
       "3           1   하나고        44        42         2  37.641704  126.935000   \n",
       "4           7   민사고        42        40         2  37.459916  128.140988   \n",
       "\n",
       "                            주소  \n",
       "0    서울특별시 광진구 중곡4동 용마산로22길 26  \n",
       "1  전라북도 전주시 완산구 효자동1가 거마평로 130  \n",
       "2      경기도 용인시 처인구 모현면 왕산리 232  \n",
       "3        서울특별시 은평구 진관동 연서로 535  \n",
       "4          강원도 횡성군 안흥면 봉화로 800  "
      ]
     },
     "execution_count": 2,
     "metadata": {},
     "output_type": "execute_result"
    }
   ],
   "source": [
    "university_2013 = pd.read_excel('./data/2013상위50.xlsx')\n",
    "university_2013.head()"
   ]
  },
  {
   "cell_type": "code",
   "execution_count": 7,
   "metadata": {
    "collapsed": true
   },
   "outputs": [
    {
     "name": "stdout",
     "output_type": "stream",
     "text": [
      "<class 'pandas.core.frame.DataFrame'>\n",
      "RangeIndex: 50 entries, 0 to 49\n",
      "Data columns (total 8 columns):\n",
      " #   Column      Non-Null Count  Dtype  \n",
      "---  ------      --------------  -----  \n",
      " 0   Unnamed: 0  50 non-null     int64  \n",
      " 1   학교명         50 non-null     object \n",
      " 2   2013(총합)    50 non-null     int64  \n",
      " 3   2013(수시)    50 non-null     int64  \n",
      " 4   2013(정시)    50 non-null     int64  \n",
      " 5   위도          50 non-null     float64\n",
      " 6   경도          50 non-null     float64\n",
      " 7   주소          50 non-null     object \n",
      "dtypes: float64(2), int64(4), object(2)\n",
      "memory usage: 3.2+ KB\n"
     ]
    }
   ],
   "source": [
    "university_2013.info()"
   ]
  },
  {
   "cell_type": "code",
   "execution_count": 34,
   "metadata": {},
   "outputs": [],
   "source": [
    "lat = university_2013['위도'].mean()\n",
    "long = university_2013['경도'].mean()"
   ]
  },
  {
   "cell_type": "code",
   "execution_count": 35,
   "metadata": {},
   "outputs": [],
   "source": [
    "m = folium.Map([lat,long])"
   ]
  },
  {
   "cell_type": "code",
   "execution_count": 37,
   "metadata": {
    "scrolled": true
   },
   "outputs": [
    {
     "data": {
      "text/html": [
       "<div style=\"width:100%;\"><div style=\"position:relative;width:100%;height:0;padding-bottom:60%;\"><span style=\"color:#565656\">Make this Notebook Trusted to load map: File -> Trust Notebook</span><iframe src=\"about:blank\" style=\"position:absolute;width:100%;height:100%;left:0;top:0;border:none !important;\" data-html=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 onload=\"this.contentDocument.open();this.contentDocument.write(atob(this.getAttribute('data-html')));this.contentDocument.close();\" allowfullscreen webkitallowfullscreen mozallowfullscreen></iframe></div></div>"
      ],
      "text/plain": [
       "<folium.folium.Map at 0x1cded675fd0>"
      ]
     },
     "execution_count": 37,
     "metadata": {},
     "output_type": "execute_result"
    }
   ],
   "source": [
    "m = folium.Map([lat, long], zoom_start=12)\n",
    "marker_cluster = MarkerCluster().add_to(m) \n",
    "\n",
    "for i in university_2013.index:\n",
    "    sub_lat = university_2013.loc[i, '위도']\n",
    "    sub_long = university_2013.loc[i, '경도']\n",
    "    title = university_2013.loc[i, '학교명']\n",
    "    \n",
    "    folium.Marker([sub_lat,sub_long]).add_to(marker_cluster)\n",
    "m"
   ]
  },
  {
   "cell_type": "code",
   "execution_count": null,
   "metadata": {},
   "outputs": [],
   "source": []
  }
 ],
 "metadata": {
  "kernelspec": {
   "display_name": "Python 3",
   "language": "python",
   "name": "python3"
  },
  "language_info": {
   "codemirror_mode": {
    "name": "ipython",
    "version": 3
   },
   "file_extension": ".py",
   "mimetype": "text/x-python",
   "name": "python",
   "nbconvert_exporter": "python",
   "pygments_lexer": "ipython3",
   "version": "3.8.3"
  }
 },
 "nbformat": 4,
 "nbformat_minor": 4
}
