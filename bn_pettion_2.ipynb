{
 "cells": [
  {
   "cell_type": "code",
   "execution_count": 1,
   "metadata": {},
   "outputs": [],
   "source": [
    "import pandas as pd\n",
    "import numpy as np\n",
    "import matplotlib.pyplot as plt\n",
    "import seaborn as sns"
   ]
  },
  {
   "cell_type": "code",
   "execution_count": 33,
   "metadata": {},
   "outputs": [],
   "source": [
    "import matplotlib as mpl\n",
    "import matplotlib.font_manager as fm\n",
    "mpl.rcParams['axes.unicode_minus']= False\n",
    "path = 'C:/Windows/Fonts/malgun.ttf'\n",
    "font_name = fm.FontProperties(fname = path, size = 50).get_name()\n",
    "plt.rc('font', family=font_name)"
   ]
  },
  {
   "cell_type": "code",
   "execution_count": 5,
   "metadata": {
    "collapsed": true
   },
   "outputs": [
    {
     "data": {
      "text/html": [
       "<div>\n",
       "<style scoped>\n",
       "    .dataframe tbody tr th:only-of-type {\n",
       "        vertical-align: middle;\n",
       "    }\n",
       "\n",
       "    .dataframe tbody tr th {\n",
       "        vertical-align: top;\n",
       "    }\n",
       "\n",
       "    .dataframe thead th {\n",
       "        text-align: right;\n",
       "    }\n",
       "</style>\n",
       "<table border=\"1\" class=\"dataframe\">\n",
       "  <thead>\n",
       "    <tr style=\"text-align: right;\">\n",
       "      <th></th>\n",
       "      <th>article_id</th>\n",
       "      <th>start</th>\n",
       "      <th>end</th>\n",
       "      <th>answered</th>\n",
       "      <th>votes</th>\n",
       "      <th>category</th>\n",
       "      <th>title</th>\n",
       "      <th>content</th>\n",
       "    </tr>\n",
       "  </thead>\n",
       "  <tbody>\n",
       "    <tr>\n",
       "      <th>0</th>\n",
       "      <td>21</td>\n",
       "      <td>2017-08-19</td>\n",
       "      <td>2017-11-17</td>\n",
       "      <td>0</td>\n",
       "      <td>9</td>\n",
       "      <td>안전/환경</td>\n",
       "      <td>스텔라 데이지호에 대한 제안입니다.</td>\n",
       "      <td>스텔라 데이지호에 대한 제안입니다.\\n3월31일 스텔라 데이지호가 침몰하고 5달째가...</td>\n",
       "    </tr>\n",
       "    <tr>\n",
       "      <th>1</th>\n",
       "      <td>22</td>\n",
       "      <td>2017-08-19</td>\n",
       "      <td>2017-11-17</td>\n",
       "      <td>0</td>\n",
       "      <td>17</td>\n",
       "      <td>기타</td>\n",
       "      <td>비리제보처를 만들어주세요.</td>\n",
       "      <td>현 정부에 국민들이 가장 원하는 것은 부패척결입니다.  우리 사회에 각종 비리들이 ...</td>\n",
       "    </tr>\n",
       "    <tr>\n",
       "      <th>2</th>\n",
       "      <td>23</td>\n",
       "      <td>2017-08-19</td>\n",
       "      <td>2017-09-03</td>\n",
       "      <td>0</td>\n",
       "      <td>0</td>\n",
       "      <td>미래</td>\n",
       "      <td>제2의 개성공단</td>\n",
       "      <td>만일 하시는 대통령님 및 각 부처 장관님,주무관님들 안녕하세요!!\\n전남 목포에서 ...</td>\n",
       "    </tr>\n",
       "    <tr>\n",
       "      <th>3</th>\n",
       "      <td>24</td>\n",
       "      <td>2017-08-19</td>\n",
       "      <td>2017-08-26</td>\n",
       "      <td>0</td>\n",
       "      <td>53</td>\n",
       "      <td>일자리</td>\n",
       "      <td>공공기관 무조건적인 정규직전환을 반대합니다.</td>\n",
       "      <td>현정부에서 정규직 일자리를 늘리는 것에 찬성합니다. 그런데 공공기관 비정규직들은 인...</td>\n",
       "    </tr>\n",
       "    <tr>\n",
       "      <th>4</th>\n",
       "      <td>25</td>\n",
       "      <td>2017-08-19</td>\n",
       "      <td>2017-09-03</td>\n",
       "      <td>0</td>\n",
       "      <td>0</td>\n",
       "      <td>미래</td>\n",
       "      <td>제2의 개성공단</td>\n",
       "      <td>만일 하시는 대통령님 및 각 부처 장관님,주무관님들 안녕하세요!!\\n전남 목포에서 ...</td>\n",
       "    </tr>\n",
       "  </tbody>\n",
       "</table>\n",
       "</div>"
      ],
      "text/plain": [
       "   article_id       start         end  answered  votes category  \\\n",
       "0          21  2017-08-19  2017-11-17         0      9    안전/환경   \n",
       "1          22  2017-08-19  2017-11-17         0     17       기타   \n",
       "2          23  2017-08-19  2017-09-03         0      0       미래   \n",
       "3          24  2017-08-19  2017-08-26         0     53      일자리   \n",
       "4          25  2017-08-19  2017-09-03         0      0       미래   \n",
       "\n",
       "                      title                                            content  \n",
       "0       스텔라 데이지호에 대한 제안입니다.  스텔라 데이지호에 대한 제안입니다.\\n3월31일 스텔라 데이지호가 침몰하고 5달째가...  \n",
       "1            비리제보처를 만들어주세요.  현 정부에 국민들이 가장 원하는 것은 부패척결입니다.  우리 사회에 각종 비리들이 ...  \n",
       "2                  제2의 개성공단  만일 하시는 대통령님 및 각 부처 장관님,주무관님들 안녕하세요!!\\n전남 목포에서 ...  \n",
       "3  공공기관 무조건적인 정규직전환을 반대합니다.  현정부에서 정규직 일자리를 늘리는 것에 찬성합니다. 그런데 공공기관 비정규직들은 인...  \n",
       "4                  제2의 개성공단  만일 하시는 대통령님 및 각 부처 장관님,주무관님들 안녕하세요!!\\n전남 목포에서 ...  "
      ]
     },
     "execution_count": 5,
     "metadata": {},
     "output_type": "execute_result"
    }
   ],
   "source": [
    "df = pd.read_csv('./files/petition.csv')\n",
    "df.head()"
   ]
  },
  {
   "cell_type": "code",
   "execution_count": 4,
   "metadata": {
    "collapsed": true
   },
   "outputs": [
    {
     "name": "stdout",
     "output_type": "stream",
     "text": [
      "<class 'pandas.core.frame.DataFrame'>\n",
      "RangeIndex: 377756 entries, 0 to 377755\n",
      "Data columns (total 8 columns):\n",
      " #   Column      Non-Null Count   Dtype \n",
      "---  ------      --------------   ----- \n",
      " 0   article_id  377756 non-null  int64 \n",
      " 1   start       377756 non-null  object\n",
      " 2   end         377756 non-null  object\n",
      " 3   answered    377756 non-null  int64 \n",
      " 4   votes       377756 non-null  int64 \n",
      " 5   category    377756 non-null  object\n",
      " 6   title       377756 non-null  object\n",
      " 7   content     377755 non-null  object\n",
      "dtypes: int64(3), object(5)\n",
      "memory usage: 23.1+ MB\n"
     ]
    }
   ],
   "source": [
    "df.info()"
   ]
  },
  {
   "cell_type": "code",
   "execution_count": 8,
   "metadata": {
    "collapsed": true
   },
   "outputs": [
    {
     "data": {
      "text/plain": [
       "'청원인  왕 기 운\\\\n서울 도봉구 창동 삼성아파트 101-1103호\\\\n청원취지\\\\n보건복지부 부령 제339호중 “특수의료장비 운영에 관한 규칙” 중  불합리한 행정제도·법령·시책 등으로 인하여 권리·이익이 침해되어 시정요구시정을 요구합니다.\\\\n청원내용\\\\n1. 들어가는 말\\\\n저는 의료기기 판매 임대를 업으로 하는 개인사업자입니다. 몇 년간 특수의료장비(CT MRI)를 판매하였지만 매번 장비를 판매할 때마다 부딪히는 문제가 있었습니다. 특수의료장비를 설치하기 위해선 특수의료장비의 설치 및 운영에 관한 규칙 제 3조의 기준을 적용받고 있습니다. 위 인정기준 때문에 장비를 판매하지 못하기도 하고, 이미 판매한 장비의 계약이 해지가 될 뻔 한 위기에 처해 있으며, 그 손해배상으로 몇 개월의 추가 보증을 해줘 경제적 손실을 볼 위기에 처해 있습니다.\\\\n비단 저 혼자만의 문제가 아니라 특수의료장비 중 MRI와 CT를 판매하는 회사들과 MRI와 CT를 설치 하고자 하는 소규모 병의원들이 이 불합리적인 특수의료 장비의 설치 및 운영에 관한 규칙 제 3조의 기준 때문에 고통을 받고 손해배상, 소송까지도 가는 경우가 있어 청원을 제기 합니다.\\\\n2. 이 부령이 만들어진지 벌써 15년이 지났지만 매번 강화만 되어 더이상 신규로 특수의료장비를 설치하기가 거의 불가능하게 되었습니다. 기득권(대학병원, 종합병원)은 이규정을 적용받지 않아 10대건 20대건 얼마든지 추가 장비를 설치할 수 있지만 소규모 병의원들은 절대 그럴 수 없습니다.\\\\n3.특수의료장비의 설치 및 운영에 관한 규칙 제3조의 규정이 헌법 제11조 1항, 37조 1항2항,  제119조 1항에 각 어긋나는 규칙으로 사료 되어 이 청원을 제기합니다.\\\\n가. 특수의료장비의 설치 및 운영에 관한 규칙의 제정에 관하여\\\\n보건복지부는 특수의료장비(CT, MRI등)의 장비에 대해 2002년에 “특수의료장비 관리 체계 수립의 배경”을 아래 두 가지 이유로 신설하였습니다.\\\\n1, 고가장비의 무분별한 설치 억제 필요성\\\\n2, 특수의료장비의 품질관리 체계수립 필요성\\\\n위 두 가지를 이유로 특수의료장비의 법적인 규제를 실시하였습니다.\\\\n15년이 지난 2017년 현재까지 위 규제로 인하여 특수의료장비(CT MRI)의 설치 규제 하였고, 위 장비가 필요한 대부분의 병의원 경우 설치등록기준(별표1) 맞춰서 장비를 가동하고 있습니다. 몇 년 전부터 특수의료장비 설치 인정기준 중에 200병상 등록기준을 맞추기 위해 수많은 폐단이 발생하였습니다.(특수의료장비 폐단관련 기사)\\\\n과거에는 개인의원의 경우에도 입원실을 두었지만 시간이 지날수록 개인의원의 경우 입원병실을 폐쇄 하거나 입원병실이 있는 개인의원의 폐업도 증가하였습니다. 이로 인하여 특수의료장비 설치 인정기준 중에 200병상 등록기준을 맞춰서 장비 등록을 하기가 점점 더 어렵고 이제는 전국적으로 더 이상 장비를  인정기준 중에 200병상 등록기준에 맞춰서 설치하기가 어렵게 되었습니다. 겨우 특수의료장비를 설치 할 수 있는 의료기관이라고 해봐야 자체 병상이 확보된 병원 정도라고 봐도 무방할 듯합니다.\\\\n나. 위의 규정은 헌법에 어긋난다 할 것입니다.\\\\n특수의료장비 설치 인정기준 중에 200병상 등록기준을 맞춰서 장비를 등록 하는 규정은 대한민국 헌법 “제11조 1항 모든 국민은 법 앞에 평등하다. 누구든지 성별·종교 또는 사회적 신분에 의하여 정치적·경제적·사회적·문화적 생활의 모든 영역에 있어서 차별을 받지 아니한다.” “제37조 ①국민의 자유와 권리는 헌법에 열거되지 아니한 이유로 경시되지 아니한다. ②국민의 모든 자유와 권리는 국가안전보장·질서유지 또는 공공복리를 위하여 필요한 경우에 한하여 법률로써 제한할 수 있으며, 제한하는 경우에도 자유와 권리의 본질적인 내용을 침해할 수 없다. ” 제119조 1항 대한민국의 경제질서는 개인과 기업의 경제상의 자유와 창의를 존중함을 기본으로 한다.“에 어긋나는 규칙으로 사료 되어 이 민원을 제기합니다.\\\\n예를 들어 199병상을 가진 병원은 1개 병상만 공동병상 활용 동의서를 받으면 특수의료장비등록을 할 수 있지만, 29개 병상을 가진 의원의 경우는 171개 이상의 공동병상 활용 동의를 받아야 특수의료장비를 설치 할 수 있습니다.심지어 대학병원이나 종합병원(CT에 대한 설치기준은 인정받지 않음)은 자체 병상이 거의 대부분 200병상이 넘어 장비를 10대까지도 설치한 곳도 있습니다. 일반병의원의 경우도 200병상의 기준만 충족하면 장비를 10대건 20대건 마음대로 설치 할 수 있습니다. 최초에 보건복지부 “특수의료장비 운영에 관한 규칙”의 체계수립 배경이\\\\n“1, 고가장비의 무분별한 설치 억제 필요성”이라면 어떻게 이 내용이 가능한지 모르겠습니다.\\\\n이미 설치한 병의원은 독과점 적으로 무한대로 특수의료장비를 설치 할 수 있고, 신규 개원을 하는 병의원들은 특수의료장비의 설치 인정기준을 맞출 수 없어 특수의료장비를 설치 할 수가 없다면, 이는 위에서 열거한 헌법조항에 위배되는 내용이 아닐까 판단합니다.\\\\n보건복지부는 “특수의료장비(CT MRI)“공동병상 활용 동의서”를 받아야 한다고 했습니다. 위 동의서를 받기 위해 특수의료장비가 설치되어 있지 않은 타 병의원을 방문해서 동의서를 요구 하면 자신들의 병상을 타 기관에 절대 동의 해 줄 수 없다고 해주지 않는 병의원이 많았습니다. 현재는 그 동의서를 받을 수 있는 병의원도 대부분 없어진 실정입니다. “특수의료장비공동병상 활용동의서“를 활용한 200병상 설치 기준을 만들었으면, 아직 공동병상 활용 동의를 하지 않은 병의원의 병상 동의서를 특수의료장비를 설치하고자 하는 병의원은 누구라도 받을 수 있는 법적인 조치도 함께 만들었어야 하지 않나 개인적인 생각도 해봅니다.\\\\n보건복지부령의 특수의료장비의 설치 및 운영에 관한 규칙 제3조에서 정한 “고가장비의 무분별한 설치 억제 필요성”을 이유로 별표1의 설치인정 기준 중 “비고” “가”항 “나”항의 병의원들은 공동병상 활용을 활용할 수 없다는 규정 또한 어떤 법적인 근거도 없이 설치 억제를 위한 억지의 규정이라 판단됩니다. 치과병원 정신병원 요양병원도 CT MRI가 필요한 환자를 다른 기관에 촬영의뢰를 합니다\\\\n그럼에도 불구하고 이곳의 공동병상은 사용이 불가능 합니다\\\\n특수의료장비 설치기준은 점점 더 강화되어가고 있습니다.\\\\n“특수의료장비 관리 체계 수립의 배경”은 중 2번의 “특수의료장비의 품질관리 체계수립의 필요성은 백번 양보 한다 해도 더욱 강화 되어야 하는 법이 맞습니다. 하지만 ”고가장비의 무분별한 설치 억제 필요성”은 상위법 우선 원칙에 위배 된다고 판단합니다. 고가 장비가 비단 CT MRI만 있는 것도 아닙니다 이보다 고가의 장비도 더 많을진데 비단 CT MRI만 규제를 강화하고있는 현재의 규칙때문에  새로이 병원을 오픈하는 의료기관은  CT MRI가 필요함에도 불구하고 설치를 할 수가 없습니다\\\\n감히 영세한 사업자가 보건복지부가 정한 규정에 청원을 제기 한다는 것이 주제넘을지 모르겠지만 특수의료장비를 설치하는 병의원들과 판매하는 의료기기 업체들은 위 설치인정기준으로 너무나도 어려운 상황에 처해 있습니다.\\\\n3. 결어\\\\n현재 지자체 보건소 담당자들도 이 규칙이  부당함을  토로합니다.\\\\n그러나 보건복지부는 어떠한 대답을 내놓고 있지 않습니다.\\\\n얼마전 보건복지부와 지자체 보건소 담당자가 강원도에서 간담회를 하면서 특수의료장비에 대한 이야기를 하였다는 말을 어느 보건소 담당자를 통해 들었습니다 , 그러나 아무런 대안도 없었다고 하며, 위 내용으로 국민권익위원회에 민원을 넣어봤지만 권익위는 자신들의 전문분야가 아니라며 보건복지부로 민원을 이관해 버렸고, 결국 보건복지부에선 일상적인 답변만 돌아왔습니다.\\\\n제가 청원한 이 민원이 보건복지부나 국민권익위원회처럼 메아리로 돌아 오지 않았으면 합니다,\\\\n부디 영세사업자와 일선 병의원  고충을 헤아려 좋은 결과를 기대합니다\\\\n2017.  8. 19 .\\\\n청원인 왕 기 운\\\\n국민권익위원회    귀중'"
      ]
     },
     "execution_count": 8,
     "metadata": {},
     "output_type": "execute_result"
    }
   ],
   "source": [
    "df.content[5]"
   ]
  },
  {
   "cell_type": "code",
   "execution_count": 10,
   "metadata": {},
   "outputs": [],
   "source": [
    "df = df.sample(frac=0.1).copy()"
   ]
  },
  {
   "cell_type": "code",
   "execution_count": 11,
   "metadata": {
    "collapsed": true
   },
   "outputs": [
    {
     "name": "stdout",
     "output_type": "stream",
     "text": [
      "<class 'pandas.core.frame.DataFrame'>\n",
      "Int64Index: 37776 entries, 269334 to 226343\n",
      "Data columns (total 8 columns):\n",
      " #   Column      Non-Null Count  Dtype \n",
      "---  ------      --------------  ----- \n",
      " 0   article_id  37776 non-null  int64 \n",
      " 1   start       37776 non-null  object\n",
      " 2   end         37776 non-null  object\n",
      " 3   answered    37776 non-null  int64 \n",
      " 4   votes       37776 non-null  int64 \n",
      " 5   category    37776 non-null  object\n",
      " 6   title       37776 non-null  object\n",
      " 7   content     37776 non-null  object\n",
      "dtypes: int64(3), object(5)\n",
      "memory usage: 2.6+ MB\n"
     ]
    }
   ],
   "source": [
    "df.info()"
   ]
  },
  {
   "cell_type": "code",
   "execution_count": 12,
   "metadata": {},
   "outputs": [],
   "source": [
    "df.to_csv('./files/petiton_samplte.csv')"
   ]
  },
  {
   "cell_type": "code",
   "execution_count": 13,
   "metadata": {
    "collapsed": true
   },
   "outputs": [
    {
     "data": {
      "text/html": [
       "<div>\n",
       "<style scoped>\n",
       "    .dataframe tbody tr th:only-of-type {\n",
       "        vertical-align: middle;\n",
       "    }\n",
       "\n",
       "    .dataframe tbody tr th {\n",
       "        vertical-align: top;\n",
       "    }\n",
       "\n",
       "    .dataframe thead th {\n",
       "        text-align: right;\n",
       "    }\n",
       "</style>\n",
       "<table border=\"1\" class=\"dataframe\">\n",
       "  <thead>\n",
       "    <tr style=\"text-align: right;\">\n",
       "      <th></th>\n",
       "      <th>article_id</th>\n",
       "      <th>start</th>\n",
       "      <th>end</th>\n",
       "      <th>answered</th>\n",
       "      <th>votes</th>\n",
       "      <th>category</th>\n",
       "      <th>title</th>\n",
       "      <th>content</th>\n",
       "    </tr>\n",
       "  </thead>\n",
       "  <tbody>\n",
       "    <tr>\n",
       "      <th>269334</th>\n",
       "      <td>349939</td>\n",
       "      <td>2018-08-21</td>\n",
       "      <td>2018-09-20</td>\n",
       "      <td>0</td>\n",
       "      <td>4</td>\n",
       "      <td>인권/성평등</td>\n",
       "      <td>다산 신도시 '택배 사건'</td>\n",
       "      <td>제가 오늘 SBS 뉴스에서 다산 신도시에 있는 아파트에 택배기사님들이 차량을 주차하...</td>\n",
       "    </tr>\n",
       "    <tr>\n",
       "      <th>241194</th>\n",
       "      <td>312427</td>\n",
       "      <td>2018-07-20</td>\n",
       "      <td>2018-08-19</td>\n",
       "      <td>0</td>\n",
       "      <td>78</td>\n",
       "      <td>외교/통일/국방</td>\n",
       "      <td>🔷제주예멘 나부랭이들과 국내 불법체류자들 추방!!!!!!</td>\n",
       "      <td>이제 예멘에  \"예\"자도 듣기싫습니다.\\n국내 여성들을 성적대상으로 삼고,\\n국내에...</td>\n",
       "    </tr>\n",
       "    <tr>\n",
       "      <th>171145</th>\n",
       "      <td>212187</td>\n",
       "      <td>2018-04-25</td>\n",
       "      <td>2018-05-25</td>\n",
       "      <td>0</td>\n",
       "      <td>16</td>\n",
       "      <td>외교/통일/국방</td>\n",
       "      <td>김정은의장대사열반대</td>\n",
       "      <td>좌파들이이끄는나라지만 우리나라국군이 나라인정도받지못한 괴수원수의손자에게 국군사열이 ...</td>\n",
       "    </tr>\n",
       "    <tr>\n",
       "      <th>58626</th>\n",
       "      <td>61551</td>\n",
       "      <td>2017-12-08</td>\n",
       "      <td>2018-01-07</td>\n",
       "      <td>0</td>\n",
       "      <td>0</td>\n",
       "      <td>행정</td>\n",
       "      <td>국가기관의 부당하고 반헌법적 처분에 청원합니다.</td>\n",
       "      <td>국가의 부당한처분및 책임회피에 대해 국민청원 합니다. 국가배상신청(2017국배187...</td>\n",
       "    </tr>\n",
       "    <tr>\n",
       "      <th>302753</th>\n",
       "      <td>394611</td>\n",
       "      <td>2018-10-01</td>\n",
       "      <td>2018-10-31</td>\n",
       "      <td>0</td>\n",
       "      <td>4</td>\n",
       "      <td>보건복지</td>\n",
       "      <td>수조원 을 더 걷어들인 담배세 사용처를 공개해라.</td>\n",
       "      <td>말로는 국민건강 증진 과 흡연률 감소 을 위한 어쩔수 없는 것이라며 담배세 를 10...</td>\n",
       "    </tr>\n",
       "  </tbody>\n",
       "</table>\n",
       "</div>"
      ],
      "text/plain": [
       "        article_id       start         end  answered  votes  category  \\\n",
       "269334      349939  2018-08-21  2018-09-20         0      4    인권/성평등   \n",
       "241194      312427  2018-07-20  2018-08-19         0     78  외교/통일/국방   \n",
       "171145      212187  2018-04-25  2018-05-25         0     16  외교/통일/국방   \n",
       "58626        61551  2017-12-08  2018-01-07         0      0        행정   \n",
       "302753      394611  2018-10-01  2018-10-31         0      4      보건복지   \n",
       "\n",
       "                                  title  \\\n",
       "269334                   다산 신도시 '택배 사건'   \n",
       "241194  🔷제주예멘 나부랭이들과 국내 불법체류자들 추방!!!!!!   \n",
       "171145                       김정은의장대사열반대   \n",
       "58626        국가기관의 부당하고 반헌법적 처분에 청원합니다.   \n",
       "302753      수조원 을 더 걷어들인 담배세 사용처를 공개해라.   \n",
       "\n",
       "                                                  content  \n",
       "269334  제가 오늘 SBS 뉴스에서 다산 신도시에 있는 아파트에 택배기사님들이 차량을 주차하...  \n",
       "241194  이제 예멘에  \"예\"자도 듣기싫습니다.\\n국내 여성들을 성적대상으로 삼고,\\n국내에...  \n",
       "171145  좌파들이이끄는나라지만 우리나라국군이 나라인정도받지못한 괴수원수의손자에게 국군사열이 ...  \n",
       "58626   국가의 부당한처분및 책임회피에 대해 국민청원 합니다. 국가배상신청(2017국배187...  \n",
       "302753  말로는 국민건강 증진 과 흡연률 감소 을 위한 어쩔수 없는 것이라며 담배세 를 10...  "
      ]
     },
     "execution_count": 13,
     "metadata": {},
     "output_type": "execute_result"
    }
   ],
   "source": [
    "df.head()"
   ]
  },
  {
   "cell_type": "code",
   "execution_count": 15,
   "metadata": {},
   "outputs": [],
   "source": [
    "df['end'] = pd.to_datetime(df['end'])\n",
    "df['start'] = pd.to_datetime(df['start'])"
   ]
  },
  {
   "cell_type": "code",
   "execution_count": 16,
   "metadata": {},
   "outputs": [],
   "source": [
    "df['duration'] = df['end']-df['start']"
   ]
  },
  {
   "cell_type": "code",
   "execution_count": 17,
   "metadata": {
    "collapsed": true
   },
   "outputs": [
    {
     "data": {
      "text/html": [
       "<div>\n",
       "<style scoped>\n",
       "    .dataframe tbody tr th:only-of-type {\n",
       "        vertical-align: middle;\n",
       "    }\n",
       "\n",
       "    .dataframe tbody tr th {\n",
       "        vertical-align: top;\n",
       "    }\n",
       "\n",
       "    .dataframe thead th {\n",
       "        text-align: right;\n",
       "    }\n",
       "</style>\n",
       "<table border=\"1\" class=\"dataframe\">\n",
       "  <thead>\n",
       "    <tr style=\"text-align: right;\">\n",
       "      <th></th>\n",
       "      <th>article_id</th>\n",
       "      <th>start</th>\n",
       "      <th>end</th>\n",
       "      <th>answered</th>\n",
       "      <th>votes</th>\n",
       "      <th>category</th>\n",
       "      <th>title</th>\n",
       "      <th>content</th>\n",
       "      <th>duration</th>\n",
       "    </tr>\n",
       "  </thead>\n",
       "  <tbody>\n",
       "    <tr>\n",
       "      <th>269334</th>\n",
       "      <td>349939</td>\n",
       "      <td>2018-08-21</td>\n",
       "      <td>2018-09-20</td>\n",
       "      <td>0</td>\n",
       "      <td>4</td>\n",
       "      <td>인권/성평등</td>\n",
       "      <td>다산 신도시 '택배 사건'</td>\n",
       "      <td>제가 오늘 SBS 뉴스에서 다산 신도시에 있는 아파트에 택배기사님들이 차량을 주차하...</td>\n",
       "      <td>30 days</td>\n",
       "    </tr>\n",
       "    <tr>\n",
       "      <th>241194</th>\n",
       "      <td>312427</td>\n",
       "      <td>2018-07-20</td>\n",
       "      <td>2018-08-19</td>\n",
       "      <td>0</td>\n",
       "      <td>78</td>\n",
       "      <td>외교/통일/국방</td>\n",
       "      <td>🔷제주예멘 나부랭이들과 국내 불법체류자들 추방!!!!!!</td>\n",
       "      <td>이제 예멘에  \"예\"자도 듣기싫습니다.\\n국내 여성들을 성적대상으로 삼고,\\n국내에...</td>\n",
       "      <td>30 days</td>\n",
       "    </tr>\n",
       "    <tr>\n",
       "      <th>171145</th>\n",
       "      <td>212187</td>\n",
       "      <td>2018-04-25</td>\n",
       "      <td>2018-05-25</td>\n",
       "      <td>0</td>\n",
       "      <td>16</td>\n",
       "      <td>외교/통일/국방</td>\n",
       "      <td>김정은의장대사열반대</td>\n",
       "      <td>좌파들이이끄는나라지만 우리나라국군이 나라인정도받지못한 괴수원수의손자에게 국군사열이 ...</td>\n",
       "      <td>30 days</td>\n",
       "    </tr>\n",
       "    <tr>\n",
       "      <th>58626</th>\n",
       "      <td>61551</td>\n",
       "      <td>2017-12-08</td>\n",
       "      <td>2018-01-07</td>\n",
       "      <td>0</td>\n",
       "      <td>0</td>\n",
       "      <td>행정</td>\n",
       "      <td>국가기관의 부당하고 반헌법적 처분에 청원합니다.</td>\n",
       "      <td>국가의 부당한처분및 책임회피에 대해 국민청원 합니다. 국가배상신청(2017국배187...</td>\n",
       "      <td>30 days</td>\n",
       "    </tr>\n",
       "    <tr>\n",
       "      <th>302753</th>\n",
       "      <td>394611</td>\n",
       "      <td>2018-10-01</td>\n",
       "      <td>2018-10-31</td>\n",
       "      <td>0</td>\n",
       "      <td>4</td>\n",
       "      <td>보건복지</td>\n",
       "      <td>수조원 을 더 걷어들인 담배세 사용처를 공개해라.</td>\n",
       "      <td>말로는 국민건강 증진 과 흡연률 감소 을 위한 어쩔수 없는 것이라며 담배세 를 10...</td>\n",
       "      <td>30 days</td>\n",
       "    </tr>\n",
       "  </tbody>\n",
       "</table>\n",
       "</div>"
      ],
      "text/plain": [
       "        article_id      start        end  answered  votes  category  \\\n",
       "269334      349939 2018-08-21 2018-09-20         0      4    인권/성평등   \n",
       "241194      312427 2018-07-20 2018-08-19         0     78  외교/통일/국방   \n",
       "171145      212187 2018-04-25 2018-05-25         0     16  외교/통일/국방   \n",
       "58626        61551 2017-12-08 2018-01-07         0      0        행정   \n",
       "302753      394611 2018-10-01 2018-10-31         0      4      보건복지   \n",
       "\n",
       "                                  title  \\\n",
       "269334                   다산 신도시 '택배 사건'   \n",
       "241194  🔷제주예멘 나부랭이들과 국내 불법체류자들 추방!!!!!!   \n",
       "171145                       김정은의장대사열반대   \n",
       "58626        국가기관의 부당하고 반헌법적 처분에 청원합니다.   \n",
       "302753      수조원 을 더 걷어들인 담배세 사용처를 공개해라.   \n",
       "\n",
       "                                                  content duration  \n",
       "269334  제가 오늘 SBS 뉴스에서 다산 신도시에 있는 아파트에 택배기사님들이 차량을 주차하...  30 days  \n",
       "241194  이제 예멘에  \"예\"자도 듣기싫습니다.\\n국내 여성들을 성적대상으로 삼고,\\n국내에...  30 days  \n",
       "171145  좌파들이이끄는나라지만 우리나라국군이 나라인정도받지못한 괴수원수의손자에게 국군사열이 ...  30 days  \n",
       "58626   국가의 부당한처분및 책임회피에 대해 국민청원 합니다. 국가배상신청(2017국배187...  30 days  \n",
       "302753  말로는 국민건강 증진 과 흡연률 감소 을 위한 어쩔수 없는 것이라며 담배세 를 10...  30 days  "
      ]
     },
     "execution_count": 17,
     "metadata": {},
     "output_type": "execute_result"
    }
   ],
   "source": [
    "df.head()"
   ]
  },
  {
   "cell_type": "code",
   "execution_count": 19,
   "metadata": {},
   "outputs": [
    {
     "data": {
      "text/plain": [
       "30 days    36664\n",
       "90 days      671\n",
       "7 days       257\n",
       "15 days      128\n",
       "60 days       56\n",
       "Name: duration, dtype: int64"
      ]
     },
     "execution_count": 19,
     "metadata": {},
     "output_type": "execute_result"
    }
   ],
   "source": [
    "df.duration.value_counts()"
   ]
  },
  {
   "cell_type": "code",
   "execution_count": 26,
   "metadata": {
    "collapsed": true
   },
   "outputs": [
    {
     "data": {
      "text/html": [
       "<div>\n",
       "<style scoped>\n",
       "    .dataframe tbody tr th:only-of-type {\n",
       "        vertical-align: middle;\n",
       "    }\n",
       "\n",
       "    .dataframe tbody tr th {\n",
       "        vertical-align: top;\n",
       "    }\n",
       "\n",
       "    .dataframe thead th {\n",
       "        text-align: right;\n",
       "    }\n",
       "</style>\n",
       "<table border=\"1\" class=\"dataframe\">\n",
       "  <thead>\n",
       "    <tr style=\"text-align: right;\">\n",
       "      <th></th>\n",
       "      <th>article_id</th>\n",
       "      <th>start</th>\n",
       "      <th>end</th>\n",
       "      <th>answered</th>\n",
       "      <th>votes</th>\n",
       "      <th>category</th>\n",
       "      <th>title</th>\n",
       "      <th>content</th>\n",
       "      <th>duration</th>\n",
       "    </tr>\n",
       "  </thead>\n",
       "  <tbody>\n",
       "    <tr>\n",
       "      <th>84324</th>\n",
       "      <td>95138</td>\n",
       "      <td>2018-01-14</td>\n",
       "      <td>2018-02-13</td>\n",
       "      <td>1</td>\n",
       "      <td>219395</td>\n",
       "      <td>교통/건축/국토</td>\n",
       "      <td>대전 아파트 단지내 횡단보도 교통사고..가해자의 만행과 도로교통법의 허점</td>\n",
       "      <td>1. 2017년 10월 16일 19시10분경 대전 맑은 아침 아파트 단지 내 횡단보...</td>\n",
       "      <td>30 days</td>\n",
       "    </tr>\n",
       "    <tr>\n",
       "      <th>18111</th>\n",
       "      <td>18278</td>\n",
       "      <td>2017-09-30</td>\n",
       "      <td>2017-10-30</td>\n",
       "      <td>1</td>\n",
       "      <td>235372</td>\n",
       "      <td>인권/성평등</td>\n",
       "      <td>낙태죄 폐지와 자연유산 유도약(미프진) 합법화 및 도입을 부탁드립니다.</td>\n",
       "      <td>안녕하세요. 존경하는 대통령님 의원님\\n낙태죄 폐지를 청원합니다.\\n현재 대한민국은...</td>\n",
       "      <td>30 days</td>\n",
       "    </tr>\n",
       "    <tr>\n",
       "      <th>131327</th>\n",
       "      <td>157046</td>\n",
       "      <td>2018-03-03</td>\n",
       "      <td>2018-04-02</td>\n",
       "      <td>1</td>\n",
       "      <td>222770</td>\n",
       "      <td>인권/성평등</td>\n",
       "      <td>단역배우 자매 자살 사건 제발 재조사를 해주세여.</td>\n",
       "      <td>http://news.naver.com/main/read.nhn?mode=LSD&amp;m...</td>\n",
       "      <td>30 days</td>\n",
       "    </tr>\n",
       "    <tr>\n",
       "      <th>54896</th>\n",
       "      <td>57132</td>\n",
       "      <td>2017-12-03</td>\n",
       "      <td>2018-01-02</td>\n",
       "      <td>1</td>\n",
       "      <td>255554</td>\n",
       "      <td>성장동력</td>\n",
       "      <td>전안법 합리적으로 개정 또는 폐지해주세요.(소상공인 소비자 모두 죽는법안입니다.)</td>\n",
       "      <td>2017년 1월 28일부터 시행되는 법령으로 국가기술표준원에서 관리하는 전기제품에만...</td>\n",
       "      <td>30 days</td>\n",
       "    </tr>\n",
       "  </tbody>\n",
       "</table>\n",
       "</div>"
      ],
      "text/plain": [
       "        article_id      start        end  answered   votes  category  \\\n",
       "84324        95138 2018-01-14 2018-02-13         1  219395  교통/건축/국토   \n",
       "18111        18278 2017-09-30 2017-10-30         1  235372    인권/성평등   \n",
       "131327      157046 2018-03-03 2018-04-02         1  222770    인권/성평등   \n",
       "54896        57132 2017-12-03 2018-01-02         1  255554      성장동력   \n",
       "\n",
       "                                                title  \\\n",
       "84324        대전 아파트 단지내 횡단보도 교통사고..가해자의 만행과 도로교통법의 허점   \n",
       "18111         낙태죄 폐지와 자연유산 유도약(미프진) 합법화 및 도입을 부탁드립니다.   \n",
       "131327                    단역배우 자매 자살 사건 제발 재조사를 해주세여.   \n",
       "54896   전안법 합리적으로 개정 또는 폐지해주세요.(소상공인 소비자 모두 죽는법안입니다.)   \n",
       "\n",
       "                                                  content duration  \n",
       "84324   1. 2017년 10월 16일 19시10분경 대전 맑은 아침 아파트 단지 내 횡단보...  30 days  \n",
       "18111   안녕하세요. 존경하는 대통령님 의원님\\n낙태죄 폐지를 청원합니다.\\n현재 대한민국은...  30 days  \n",
       "131327  http://news.naver.com/main/read.nhn?mode=LSD&m...  30 days  \n",
       "54896   2017년 1월 28일부터 시행되는 법령으로 국가기술표준원에서 관리하는 전기제품에만...  30 days  "
      ]
     },
     "execution_count": 26,
     "metadata": {},
     "output_type": "execute_result"
    }
   ],
   "source": [
    "df[(df['duration'] >= '30 days') & (df['answered'] == 1)]"
   ]
  },
  {
   "cell_type": "code",
   "execution_count": 27,
   "metadata": {},
   "outputs": [],
   "source": [
    "# 어느분야의 청원이 가장 많은지"
   ]
  },
  {
   "cell_type": "code",
   "execution_count": 28,
   "metadata": {
    "collapsed": true
   },
   "outputs": [
    {
     "data": {
      "text/html": [
       "<div>\n",
       "<style scoped>\n",
       "    .dataframe tbody tr th:only-of-type {\n",
       "        vertical-align: middle;\n",
       "    }\n",
       "\n",
       "    .dataframe tbody tr th {\n",
       "        vertical-align: top;\n",
       "    }\n",
       "\n",
       "    .dataframe thead th {\n",
       "        text-align: right;\n",
       "    }\n",
       "</style>\n",
       "<table border=\"1\" class=\"dataframe\">\n",
       "  <thead>\n",
       "    <tr style=\"text-align: right;\">\n",
       "      <th></th>\n",
       "      <th>article_id</th>\n",
       "      <th>start</th>\n",
       "      <th>end</th>\n",
       "      <th>answered</th>\n",
       "      <th>votes</th>\n",
       "      <th>category</th>\n",
       "      <th>title</th>\n",
       "      <th>content</th>\n",
       "      <th>duration</th>\n",
       "    </tr>\n",
       "  </thead>\n",
       "  <tbody>\n",
       "    <tr>\n",
       "      <th>269334</th>\n",
       "      <td>349939</td>\n",
       "      <td>2018-08-21</td>\n",
       "      <td>2018-09-20</td>\n",
       "      <td>0</td>\n",
       "      <td>4</td>\n",
       "      <td>인권/성평등</td>\n",
       "      <td>다산 신도시 '택배 사건'</td>\n",
       "      <td>제가 오늘 SBS 뉴스에서 다산 신도시에 있는 아파트에 택배기사님들이 차량을 주차하...</td>\n",
       "      <td>30 days</td>\n",
       "    </tr>\n",
       "    <tr>\n",
       "      <th>241194</th>\n",
       "      <td>312427</td>\n",
       "      <td>2018-07-20</td>\n",
       "      <td>2018-08-19</td>\n",
       "      <td>0</td>\n",
       "      <td>78</td>\n",
       "      <td>외교/통일/국방</td>\n",
       "      <td>🔷제주예멘 나부랭이들과 국내 불법체류자들 추방!!!!!!</td>\n",
       "      <td>이제 예멘에  \"예\"자도 듣기싫습니다.\\n국내 여성들을 성적대상으로 삼고,\\n국내에...</td>\n",
       "      <td>30 days</td>\n",
       "    </tr>\n",
       "    <tr>\n",
       "      <th>171145</th>\n",
       "      <td>212187</td>\n",
       "      <td>2018-04-25</td>\n",
       "      <td>2018-05-25</td>\n",
       "      <td>0</td>\n",
       "      <td>16</td>\n",
       "      <td>외교/통일/국방</td>\n",
       "      <td>김정은의장대사열반대</td>\n",
       "      <td>좌파들이이끄는나라지만 우리나라국군이 나라인정도받지못한 괴수원수의손자에게 국군사열이 ...</td>\n",
       "      <td>30 days</td>\n",
       "    </tr>\n",
       "    <tr>\n",
       "      <th>58626</th>\n",
       "      <td>61551</td>\n",
       "      <td>2017-12-08</td>\n",
       "      <td>2018-01-07</td>\n",
       "      <td>0</td>\n",
       "      <td>0</td>\n",
       "      <td>행정</td>\n",
       "      <td>국가기관의 부당하고 반헌법적 처분에 청원합니다.</td>\n",
       "      <td>국가의 부당한처분및 책임회피에 대해 국민청원 합니다. 국가배상신청(2017국배187...</td>\n",
       "      <td>30 days</td>\n",
       "    </tr>\n",
       "    <tr>\n",
       "      <th>302753</th>\n",
       "      <td>394611</td>\n",
       "      <td>2018-10-01</td>\n",
       "      <td>2018-10-31</td>\n",
       "      <td>0</td>\n",
       "      <td>4</td>\n",
       "      <td>보건복지</td>\n",
       "      <td>수조원 을 더 걷어들인 담배세 사용처를 공개해라.</td>\n",
       "      <td>말로는 국민건강 증진 과 흡연률 감소 을 위한 어쩔수 없는 것이라며 담배세 를 10...</td>\n",
       "      <td>30 days</td>\n",
       "    </tr>\n",
       "  </tbody>\n",
       "</table>\n",
       "</div>"
      ],
      "text/plain": [
       "        article_id      start        end  answered  votes  category  \\\n",
       "269334      349939 2018-08-21 2018-09-20         0      4    인권/성평등   \n",
       "241194      312427 2018-07-20 2018-08-19         0     78  외교/통일/국방   \n",
       "171145      212187 2018-04-25 2018-05-25         0     16  외교/통일/국방   \n",
       "58626        61551 2017-12-08 2018-01-07         0      0        행정   \n",
       "302753      394611 2018-10-01 2018-10-31         0      4      보건복지   \n",
       "\n",
       "                                  title  \\\n",
       "269334                   다산 신도시 '택배 사건'   \n",
       "241194  🔷제주예멘 나부랭이들과 국내 불법체류자들 추방!!!!!!   \n",
       "171145                       김정은의장대사열반대   \n",
       "58626        국가기관의 부당하고 반헌법적 처분에 청원합니다.   \n",
       "302753      수조원 을 더 걷어들인 담배세 사용처를 공개해라.   \n",
       "\n",
       "                                                  content duration  \n",
       "269334  제가 오늘 SBS 뉴스에서 다산 신도시에 있는 아파트에 택배기사님들이 차량을 주차하...  30 days  \n",
       "241194  이제 예멘에  \"예\"자도 듣기싫습니다.\\n국내 여성들을 성적대상으로 삼고,\\n국내에...  30 days  \n",
       "171145  좌파들이이끄는나라지만 우리나라국군이 나라인정도받지못한 괴수원수의손자에게 국군사열이 ...  30 days  \n",
       "58626   국가의 부당한처분및 책임회피에 대해 국민청원 합니다. 국가배상신청(2017국배187...  30 days  \n",
       "302753  말로는 국민건강 증진 과 흡연률 감소 을 위한 어쩔수 없는 것이라며 담배세 를 10...  30 days  "
      ]
     },
     "execution_count": 28,
     "metadata": {},
     "output_type": "execute_result"
    }
   ],
   "source": [
    "df.head()"
   ]
  },
  {
   "cell_type": "code",
   "execution_count": 34,
   "metadata": {
    "collapsed": true
   },
   "outputs": [
    {
     "data": {
      "image/png": "[encoded data removed]",
      "text/plain": [
       "<Figure size 432x288 with 1 Axes>"
      ]
     },
     "metadata": {
      "needs_background": "light"
     },
     "output_type": "display_data"
    }
   ],
   "source": [
    "df['category'].value_counts().plot(kind='bar')\n",
    "pass"
   ]
  },
  {
   "cell_type": "code",
   "execution_count": 38,
   "metadata": {
    "collapsed": true
   },
   "outputs": [
    {
     "data": {
      "text/plain": [
       "category\n",
       "경제민주화          0\n",
       "교통/건축/국토       1\n",
       "기타             0\n",
       "농산어촌           0\n",
       "문화/예술/체육/언론    0\n",
       "미래             0\n",
       "반려동물           0\n",
       "보건복지           0\n",
       "성장동력           1\n",
       "안전/환경          0\n",
       "외교/통일/국방       0\n",
       "육아/교육          0\n",
       "인권/성평등         2\n",
       "일자리            0\n",
       "저출산/고령화대책      0\n",
       "정치개혁           0\n",
       "행정             0\n",
       "Name: answered, dtype: int64"
      ]
     },
     "execution_count": 38,
     "metadata": {},
     "output_type": "execute_result"
    }
   ],
   "source": [
    "df.groupby('category')['answered'].sum()"
   ]
  },
  {
   "cell_type": "code",
   "execution_count": 39,
   "metadata": {},
   "outputs": [],
   "source": [
    "# word2vec\n",
    "# - 신경망 학습을 통해서 단어를 vectorizing\n",
    "# - countervectorizing. tfidvectorizing 경우 sparse matrix가 생성이 되어 학습이 잘 되지 않고 학습비용이 크다\n",
    "# - 보다 dense matrix가 만들어지고 vector가 단어의 의미를 반영하도록 학습된다\n",
    "# - 주위의 단어에 의해서 특정 단어의 의미가 결정된다"
   ]
  },
  {
   "cell_type": "code",
   "execution_count": 43,
   "metadata": {},
   "outputs": [
    {
     "data": {
      "text/plain": [
       "'1.짝퉁 시계 차고 나온게 자랑인가? 그것도 장관이..\\\\n2. 30불 짝퉁 시계을 11년째 쓴다?  어디 짝퉁 30불짜리가 그런게 있나... 내가 그거 60불 줄께 팔아라\\\\n3. 30불 짝퉁 시계을 2만원 넘게 주고 시계줄을 계속  바꾸면서 찬다? 배보다 배꼽이네 ....\\\\n이런 정신 없는 것들이 장관을 하고 있으니 참으로 개탄스럽다.'"
      ]
     },
     "execution_count": 43,
     "metadata": {},
     "output_type": "execute_result"
    }
   ],
   "source": [
    "sample_content = df.content.iloc[10]\n",
    "sample_content"
   ]
  },
  {
   "cell_type": "code",
   "execution_count": 44,
   "metadata": {},
   "outputs": [
    {
     "data": {
      "text/plain": [
       "'1.                 ?        ..\\\\ 2. 30         11     ?        30           ...       60        \\\\ 3. 30         2                         ?          ....\\\\                                  .'"
      ]
     },
     "execution_count": 44,
     "metadata": {},
     "output_type": "execute_result"
    }
   ],
   "source": [
    "import re\n",
    "\n",
    "re.sub('[가-힣ㄱ-ㅎa-zA-Z]', ' ', sample_content)"
   ]
  },
  {
   "cell_type": "code",
   "execution_count": null,
   "metadata": {},
   "outputs": [],
   "source": []
  }
 ],
 "metadata": {
  "kernelspec": {
   "display_name": "Python 3",
   "language": "python",
   "name": "python3"
  },
  "language_info": {
   "codemirror_mode": {
    "name": "ipython",
    "version": 3
   },
   "file_extension": ".py",
   "mimetype": "text/x-python",
   "name": "python",
   "nbconvert_exporter": "python",
   "pygments_lexer": "ipython3",
   "version": "3.8.3"
  }
 },
 "nbformat": 4,
 "nbformat_minor": 4
}
