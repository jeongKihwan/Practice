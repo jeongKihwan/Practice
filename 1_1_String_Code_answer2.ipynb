{
 "cells": [
  {
   "cell_type": "markdown",
   "metadata": {},
   "source": [
    "## String Sample Code"
   ]
  },
  {
   "cell_type": "code",
   "execution_count": 1,
   "metadata": {},
   "outputs": [
    {
     "name": "stdout",
     "output_type": "stream",
     "text": [
      "e\n",
      "라\n"
     ]
    }
   ],
   "source": [
    "txt1 = 'A tale that was not right'\n",
    "txt2 = '이 또한 지나가리라.'\n",
    "print(txt1[5])      # ‘e’가 출력됨\n",
    "print(txt2[-2])     # ‘다’가 출력됨"
   ]
  },
  {
   "cell_type": "code",
   "execution_count": 2,
   "metadata": {},
   "outputs": [
    {
     "name": "stdout",
     "output_type": "stream",
     "text": [
      "ale \n",
      "A tale\n",
      "가리라.\n"
     ]
    }
   ],
   "source": [
    "txt1 = 'A tale that was not right'\n",
    "txt2 = '이 또한 지나가리라.'\n",
    "print(txt1[3:7])      # ‘ale ’이 출력됨\n",
    "print(txt1[:6])       # ‘A tale’ 이 출력됨\n",
    "print(txt2[-4:])      # ‘가리라.’가 출력됨"
   ]
  },
  {
   "cell_type": "code",
   "execution_count": 3,
   "metadata": {},
   "outputs": [
    {
     "name": "stdout",
     "output_type": "stream",
     "text": [
      "abcdefghijk\n"
     ]
    }
   ],
   "source": [
    "txt = 'aAbBcCdDeEfFgGhHiIjJkK'\n",
    "ret = txt[::2]\n",
    "print(ret)       # ‘abcdefghijk’ 가 출력됨"
   ]
  },
  {
   "cell_type": "code",
   "execution_count": 4,
   "metadata": {},
   "outputs": [
    {
     "name": "stdout",
     "output_type": "stream",
     "text": [
      "kjihgfedcba\n"
     ]
    }
   ],
   "source": [
    "txt = 'abcdefghijk'\n",
    "ret = txt[::-1]\n",
    "print(ret)       # ‘kjihgfedcba’ 가 출력됨"
   ]
  },
  {
   "cell_type": "code",
   "execution_count": 15,
   "metadata": {},
   "outputs": [
    {
     "name": "stdout",
     "output_type": "stream",
     "text": [
      "A LOT OF THINGS OCCUR EACH DAY.\n",
      "a lot of things occur each day.\n"
     ]
    }
   ],
   "source": [
    "txt = 'A lot of Things occur each day.'\n",
    "ret1 = txt.upper()\n",
    "ret2 = txt.lower()\n",
    "print(ret1)       # ‘A LOT OF THINGS OCCUR EACH DAY.’가 출력됨\n",
    "print(ret2)       # ‘a lot of things occur each day.’가 출력됨"
   ]
  },
  {
   "cell_type": "code",
   "execution_count": 19,
   "metadata": {},
   "outputs": [
    {
     "name": "stdout",
     "output_type": "stream",
     "text": [
      "3\n",
      "2\n",
      "8\n"
     ]
    }
   ],
   "source": [
    "txt = 'A lot of things occur each day, every day.'\n",
    "word_count1 = txt.count('o')\n",
    "word_count2 = txt.count('day')\n",
    "word_count3 = txt.count(' ')\n",
    "print(word_count1)  # 3이 출력됨\n",
    "print(word_count2)  # 2가 출력됨\n",
    "print(word_count3)  # 8이 출력됨"
   ]
  },
  {
   "cell_type": "code",
   "execution_count": 20,
   "metadata": {},
   "outputs": [
    {
     "name": "stdout",
     "output_type": "stream",
     "text": [
      "22\n",
      "27\n",
      "38\n"
     ]
    }
   ],
   "source": [
    "txt = 'A lot of things occur each day, every day.'\n",
    "offset1 = txt.find('e')\n",
    "offset2 = txt.find('day')\n",
    "offset3 = txt.find('day', 30)\n",
    "print(offset1)   # 22가 출력됨\n",
    "print(offset2)   # 27이 출력됨\n",
    "print(offset3)   # 38이 출력됨"
   ]
  },
  {
   "cell_type": "code",
   "execution_count": 21,
   "metadata": {},
   "outputs": [
    {
     "name": "stdout",
     "output_type": "stream",
     "text": [
      "['http:', '', 'www.naver.com', 'news', 'today=20160831']\n",
      "name -> 홍길동\n",
      "age -> 17\n",
      "sex -> 남자\n",
      "nation -> 조선\n"
     ]
    }
   ],
   "source": [
    "url = 'http://www.naver.com/news/today=20160831'\n",
    "log = 'name:홍길동 age:17 sex:남자 nation:조선'\n",
    "\n",
    "ret1 = url.split('/')\n",
    "print(ret1)\n",
    "\n",
    "ret2 = log.split()\n",
    "for data in ret2:\n",
    "   d1, d2 = data.split(':')\n",
    "   print('%s -> %s' %(d1, d2))"
   ]
  },
  {
   "cell_type": "code",
   "execution_count": 22,
   "metadata": {},
   "outputs": [
    {
     "name": "stdout",
     "output_type": "stream",
     "text": [
      "2016/08/26 10:12:11;200;OK;이 또한 지나가리라\n"
     ]
    }
   ],
   "source": [
    "loglist = ['2016/08/26 10:12:11', '200', 'OK', '이 또한 지나가리라']\n",
    "bond = ';'\n",
    "log = bond.join(loglist)\n",
    "print(log)"
   ]
  },
  {
   "cell_type": "code",
   "execution_count": null,
   "metadata": {},
   "outputs": [],
   "source": []
  },
  {
   "cell_type": "code",
   "execution_count": null,
   "metadata": {},
   "outputs": [],
   "source": []
  },
  {
   "cell_type": "code",
   "execution_count": null,
   "metadata": {},
   "outputs": [],
   "source": []
  }
 ],
 "metadata": {
  "kernelspec": {
   "display_name": "Python 3",
   "language": "python",
   "name": "python3"
  },
  "language_info": {
   "codemirror_mode": {
    "name": "ipython",
    "version": 3
   },
   "file_extension": ".py",
   "mimetype": "text/x-python",
   "name": "python",
   "nbconvert_exporter": "python",
   "pygments_lexer": "ipython3",
   "version": "3.8.3"
  }
 },
 "nbformat": 4,
 "nbformat_minor": 2
}
