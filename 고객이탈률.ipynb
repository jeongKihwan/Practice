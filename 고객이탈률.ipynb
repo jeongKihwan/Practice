{
 "cells": [
  {
   "cell_type": "code",
   "execution_count": 88,
   "metadata": {},
   "outputs": [],
   "source": [
    "import pandas as pd\n",
    "import numpy as np\n",
    "import matplotlib.pyplot as plt\n",
    "import seaborn as sns"
   ]
  },
  {
   "cell_type": "code",
   "execution_count": 55,
   "metadata": {},
   "outputs": [],
   "source": [
    "import matplotlib as mpl\n",
    "import matplotlib.font_manager as fm\n",
    "mpl.rcParams['axes.unicode_minus']= False\n",
    "path = 'C:/Windows/Fonts/malgun.ttf'\n",
    "font_name = fm.FontProperties(fname = path, size = 50).get_name()\n",
    "plt.rc('font', family=font_name)"
   ]
  },
  {
   "cell_type": "code",
   "execution_count": 2,
   "metadata": {},
   "outputs": [
    {
     "data": {
      "text/html": [
       "<div>\n",
       "<style scoped>\n",
       "    .dataframe tbody tr th:only-of-type {\n",
       "        vertical-align: middle;\n",
       "    }\n",
       "\n",
       "    .dataframe tbody tr th {\n",
       "        vertical-align: top;\n",
       "    }\n",
       "\n",
       "    .dataframe thead th {\n",
       "        text-align: right;\n",
       "    }\n",
       "</style>\n",
       "<table border=\"1\" class=\"dataframe\">\n",
       "  <thead>\n",
       "    <tr style=\"text-align: right;\">\n",
       "      <th></th>\n",
       "      <th>customerID</th>\n",
       "      <th>gender</th>\n",
       "      <th>SeniorCitizen</th>\n",
       "      <th>Partner</th>\n",
       "      <th>Dependents</th>\n",
       "      <th>tenure</th>\n",
       "      <th>PhoneService</th>\n",
       "      <th>MultipleLines</th>\n",
       "      <th>InternetService</th>\n",
       "      <th>OnlineSecurity</th>\n",
       "      <th>...</th>\n",
       "      <th>DeviceProtection</th>\n",
       "      <th>TechSupport</th>\n",
       "      <th>StreamingTV</th>\n",
       "      <th>StreamingMovies</th>\n",
       "      <th>Contract</th>\n",
       "      <th>PaperlessBilling</th>\n",
       "      <th>PaymentMethod</th>\n",
       "      <th>MonthlyCharges</th>\n",
       "      <th>TotalCharges</th>\n",
       "      <th>Churn</th>\n",
       "    </tr>\n",
       "  </thead>\n",
       "  <tbody>\n",
       "    <tr>\n",
       "      <th>0</th>\n",
       "      <td>7590-VHVEG</td>\n",
       "      <td>Female</td>\n",
       "      <td>0</td>\n",
       "      <td>Yes</td>\n",
       "      <td>No</td>\n",
       "      <td>1</td>\n",
       "      <td>No</td>\n",
       "      <td>No phone service</td>\n",
       "      <td>DSL</td>\n",
       "      <td>No</td>\n",
       "      <td>...</td>\n",
       "      <td>No</td>\n",
       "      <td>No</td>\n",
       "      <td>No</td>\n",
       "      <td>No</td>\n",
       "      <td>Month-to-month</td>\n",
       "      <td>Yes</td>\n",
       "      <td>Electronic check</td>\n",
       "      <td>29.85</td>\n",
       "      <td>29.85</td>\n",
       "      <td>No</td>\n",
       "    </tr>\n",
       "    <tr>\n",
       "      <th>1</th>\n",
       "      <td>5575-GNVDE</td>\n",
       "      <td>Male</td>\n",
       "      <td>0</td>\n",
       "      <td>No</td>\n",
       "      <td>No</td>\n",
       "      <td>34</td>\n",
       "      <td>Yes</td>\n",
       "      <td>No</td>\n",
       "      <td>DSL</td>\n",
       "      <td>Yes</td>\n",
       "      <td>...</td>\n",
       "      <td>Yes</td>\n",
       "      <td>No</td>\n",
       "      <td>No</td>\n",
       "      <td>No</td>\n",
       "      <td>One year</td>\n",
       "      <td>No</td>\n",
       "      <td>Mailed check</td>\n",
       "      <td>56.95</td>\n",
       "      <td>1889.5</td>\n",
       "      <td>No</td>\n",
       "    </tr>\n",
       "    <tr>\n",
       "      <th>2</th>\n",
       "      <td>3668-QPYBK</td>\n",
       "      <td>Male</td>\n",
       "      <td>0</td>\n",
       "      <td>No</td>\n",
       "      <td>No</td>\n",
       "      <td>2</td>\n",
       "      <td>Yes</td>\n",
       "      <td>No</td>\n",
       "      <td>DSL</td>\n",
       "      <td>Yes</td>\n",
       "      <td>...</td>\n",
       "      <td>No</td>\n",
       "      <td>No</td>\n",
       "      <td>No</td>\n",
       "      <td>No</td>\n",
       "      <td>Month-to-month</td>\n",
       "      <td>Yes</td>\n",
       "      <td>Mailed check</td>\n",
       "      <td>53.85</td>\n",
       "      <td>108.15</td>\n",
       "      <td>Yes</td>\n",
       "    </tr>\n",
       "    <tr>\n",
       "      <th>3</th>\n",
       "      <td>7795-CFOCW</td>\n",
       "      <td>Male</td>\n",
       "      <td>0</td>\n",
       "      <td>No</td>\n",
       "      <td>No</td>\n",
       "      <td>45</td>\n",
       "      <td>No</td>\n",
       "      <td>No phone service</td>\n",
       "      <td>DSL</td>\n",
       "      <td>Yes</td>\n",
       "      <td>...</td>\n",
       "      <td>Yes</td>\n",
       "      <td>Yes</td>\n",
       "      <td>No</td>\n",
       "      <td>No</td>\n",
       "      <td>One year</td>\n",
       "      <td>No</td>\n",
       "      <td>Bank transfer (automatic)</td>\n",
       "      <td>42.30</td>\n",
       "      <td>1840.75</td>\n",
       "      <td>No</td>\n",
       "    </tr>\n",
       "    <tr>\n",
       "      <th>4</th>\n",
       "      <td>9237-HQITU</td>\n",
       "      <td>Female</td>\n",
       "      <td>0</td>\n",
       "      <td>No</td>\n",
       "      <td>No</td>\n",
       "      <td>2</td>\n",
       "      <td>Yes</td>\n",
       "      <td>No</td>\n",
       "      <td>Fiber optic</td>\n",
       "      <td>No</td>\n",
       "      <td>...</td>\n",
       "      <td>No</td>\n",
       "      <td>No</td>\n",
       "      <td>No</td>\n",
       "      <td>No</td>\n",
       "      <td>Month-to-month</td>\n",
       "      <td>Yes</td>\n",
       "      <td>Electronic check</td>\n",
       "      <td>70.70</td>\n",
       "      <td>151.65</td>\n",
       "      <td>Yes</td>\n",
       "    </tr>\n",
       "  </tbody>\n",
       "</table>\n",
       "<p>5 rows × 21 columns</p>\n",
       "</div>"
      ],
      "text/plain": [
       "   customerID  gender  SeniorCitizen Partner Dependents  tenure PhoneService  \\\n",
       "0  7590-VHVEG  Female              0     Yes         No       1           No   \n",
       "1  5575-GNVDE    Male              0      No         No      34          Yes   \n",
       "2  3668-QPYBK    Male              0      No         No       2          Yes   \n",
       "3  7795-CFOCW    Male              0      No         No      45           No   \n",
       "4  9237-HQITU  Female              0      No         No       2          Yes   \n",
       "\n",
       "      MultipleLines InternetService OnlineSecurity  ... DeviceProtection  \\\n",
       "0  No phone service             DSL             No  ...               No   \n",
       "1                No             DSL            Yes  ...              Yes   \n",
       "2                No             DSL            Yes  ...               No   \n",
       "3  No phone service             DSL            Yes  ...              Yes   \n",
       "4                No     Fiber optic             No  ...               No   \n",
       "\n",
       "  TechSupport StreamingTV StreamingMovies        Contract PaperlessBilling  \\\n",
       "0          No          No              No  Month-to-month              Yes   \n",
       "1          No          No              No        One year               No   \n",
       "2          No          No              No  Month-to-month              Yes   \n",
       "3         Yes          No              No        One year               No   \n",
       "4          No          No              No  Month-to-month              Yes   \n",
       "\n",
       "               PaymentMethod MonthlyCharges  TotalCharges Churn  \n",
       "0           Electronic check          29.85         29.85    No  \n",
       "1               Mailed check          56.95        1889.5    No  \n",
       "2               Mailed check          53.85        108.15   Yes  \n",
       "3  Bank transfer (automatic)          42.30       1840.75    No  \n",
       "4           Electronic check          70.70        151.65   Yes  \n",
       "\n",
       "[5 rows x 21 columns]"
      ]
     },
     "execution_count": 2,
     "metadata": {},
     "output_type": "execute_result"
    }
   ],
   "source": [
    "df = pd.read_csv('./files/WA_Fn-UseC_-Telco-Customer-Churn.csv')\n",
    "df.head()"
   ]
  },
  {
   "cell_type": "code",
   "execution_count": 3,
   "metadata": {},
   "outputs": [
    {
     "name": "stdout",
     "output_type": "stream",
     "text": [
      "<class 'pandas.core.frame.DataFrame'>\n",
      "RangeIndex: 7043 entries, 0 to 7042\n",
      "Data columns (total 21 columns):\n",
      " #   Column            Non-Null Count  Dtype  \n",
      "---  ------            --------------  -----  \n",
      " 0   customerID        7043 non-null   object \n",
      " 1   gender            7043 non-null   object \n",
      " 2   SeniorCitizen     7043 non-null   int64  \n",
      " 3   Partner           7043 non-null   object \n",
      " 4   Dependents        7043 non-null   object \n",
      " 5   tenure            7043 non-null   int64  \n",
      " 6   PhoneService      7043 non-null   object \n",
      " 7   MultipleLines     7043 non-null   object \n",
      " 8   InternetService   7043 non-null   object \n",
      " 9   OnlineSecurity    7043 non-null   object \n",
      " 10  OnlineBackup      7043 non-null   object \n",
      " 11  DeviceProtection  7043 non-null   object \n",
      " 12  TechSupport       7043 non-null   object \n",
      " 13  StreamingTV       7043 non-null   object \n",
      " 14  StreamingMovies   7043 non-null   object \n",
      " 15  Contract          7043 non-null   object \n",
      " 16  PaperlessBilling  7043 non-null   object \n",
      " 17  PaymentMethod     7043 non-null   object \n",
      " 18  MonthlyCharges    7043 non-null   float64\n",
      " 19  TotalCharges      7043 non-null   object \n",
      " 20  Churn             7043 non-null   object \n",
      "dtypes: float64(1), int64(2), object(18)\n",
      "memory usage: 1.1+ MB\n"
     ]
    }
   ],
   "source": [
    "df.info()"
   ]
  },
  {
   "cell_type": "code",
   "execution_count": 7,
   "metadata": {},
   "outputs": [],
   "source": [
    "df.drop('customerID',axis=1,inplace=True)"
   ]
  },
  {
   "cell_type": "code",
   "execution_count": 8,
   "metadata": {
    "scrolled": true
   },
   "outputs": [
    {
     "data": {
      "text/html": [
       "<div>\n",
       "<style scoped>\n",
       "    .dataframe tbody tr th:only-of-type {\n",
       "        vertical-align: middle;\n",
       "    }\n",
       "\n",
       "    .dataframe tbody tr th {\n",
       "        vertical-align: top;\n",
       "    }\n",
       "\n",
       "    .dataframe thead th {\n",
       "        text-align: right;\n",
       "    }\n",
       "</style>\n",
       "<table border=\"1\" class=\"dataframe\">\n",
       "  <thead>\n",
       "    <tr style=\"text-align: right;\">\n",
       "      <th></th>\n",
       "      <th>gender</th>\n",
       "      <th>SeniorCitizen</th>\n",
       "      <th>Partner</th>\n",
       "      <th>Dependents</th>\n",
       "      <th>tenure</th>\n",
       "      <th>PhoneService</th>\n",
       "      <th>MultipleLines</th>\n",
       "      <th>InternetService</th>\n",
       "      <th>OnlineSecurity</th>\n",
       "      <th>OnlineBackup</th>\n",
       "      <th>DeviceProtection</th>\n",
       "      <th>TechSupport</th>\n",
       "      <th>StreamingTV</th>\n",
       "      <th>StreamingMovies</th>\n",
       "      <th>Contract</th>\n",
       "      <th>PaperlessBilling</th>\n",
       "      <th>PaymentMethod</th>\n",
       "      <th>MonthlyCharges</th>\n",
       "      <th>TotalCharges</th>\n",
       "      <th>Churn</th>\n",
       "    </tr>\n",
       "  </thead>\n",
       "  <tbody>\n",
       "    <tr>\n",
       "      <th>0</th>\n",
       "      <td>Female</td>\n",
       "      <td>0</td>\n",
       "      <td>Yes</td>\n",
       "      <td>No</td>\n",
       "      <td>1</td>\n",
       "      <td>No</td>\n",
       "      <td>No phone service</td>\n",
       "      <td>DSL</td>\n",
       "      <td>No</td>\n",
       "      <td>Yes</td>\n",
       "      <td>No</td>\n",
       "      <td>No</td>\n",
       "      <td>No</td>\n",
       "      <td>No</td>\n",
       "      <td>Month-to-month</td>\n",
       "      <td>Yes</td>\n",
       "      <td>Electronic check</td>\n",
       "      <td>29.85</td>\n",
       "      <td>29.85</td>\n",
       "      <td>No</td>\n",
       "    </tr>\n",
       "    <tr>\n",
       "      <th>1</th>\n",
       "      <td>Male</td>\n",
       "      <td>0</td>\n",
       "      <td>No</td>\n",
       "      <td>No</td>\n",
       "      <td>34</td>\n",
       "      <td>Yes</td>\n",
       "      <td>No</td>\n",
       "      <td>DSL</td>\n",
       "      <td>Yes</td>\n",
       "      <td>No</td>\n",
       "      <td>Yes</td>\n",
       "      <td>No</td>\n",
       "      <td>No</td>\n",
       "      <td>No</td>\n",
       "      <td>One year</td>\n",
       "      <td>No</td>\n",
       "      <td>Mailed check</td>\n",
       "      <td>56.95</td>\n",
       "      <td>1889.5</td>\n",
       "      <td>No</td>\n",
       "    </tr>\n",
       "    <tr>\n",
       "      <th>2</th>\n",
       "      <td>Male</td>\n",
       "      <td>0</td>\n",
       "      <td>No</td>\n",
       "      <td>No</td>\n",
       "      <td>2</td>\n",
       "      <td>Yes</td>\n",
       "      <td>No</td>\n",
       "      <td>DSL</td>\n",
       "      <td>Yes</td>\n",
       "      <td>Yes</td>\n",
       "      <td>No</td>\n",
       "      <td>No</td>\n",
       "      <td>No</td>\n",
       "      <td>No</td>\n",
       "      <td>Month-to-month</td>\n",
       "      <td>Yes</td>\n",
       "      <td>Mailed check</td>\n",
       "      <td>53.85</td>\n",
       "      <td>108.15</td>\n",
       "      <td>Yes</td>\n",
       "    </tr>\n",
       "    <tr>\n",
       "      <th>3</th>\n",
       "      <td>Male</td>\n",
       "      <td>0</td>\n",
       "      <td>No</td>\n",
       "      <td>No</td>\n",
       "      <td>45</td>\n",
       "      <td>No</td>\n",
       "      <td>No phone service</td>\n",
       "      <td>DSL</td>\n",
       "      <td>Yes</td>\n",
       "      <td>No</td>\n",
       "      <td>Yes</td>\n",
       "      <td>Yes</td>\n",
       "      <td>No</td>\n",
       "      <td>No</td>\n",
       "      <td>One year</td>\n",
       "      <td>No</td>\n",
       "      <td>Bank transfer (automatic)</td>\n",
       "      <td>42.30</td>\n",
       "      <td>1840.75</td>\n",
       "      <td>No</td>\n",
       "    </tr>\n",
       "    <tr>\n",
       "      <th>4</th>\n",
       "      <td>Female</td>\n",
       "      <td>0</td>\n",
       "      <td>No</td>\n",
       "      <td>No</td>\n",
       "      <td>2</td>\n",
       "      <td>Yes</td>\n",
       "      <td>No</td>\n",
       "      <td>Fiber optic</td>\n",
       "      <td>No</td>\n",
       "      <td>No</td>\n",
       "      <td>No</td>\n",
       "      <td>No</td>\n",
       "      <td>No</td>\n",
       "      <td>No</td>\n",
       "      <td>Month-to-month</td>\n",
       "      <td>Yes</td>\n",
       "      <td>Electronic check</td>\n",
       "      <td>70.70</td>\n",
       "      <td>151.65</td>\n",
       "      <td>Yes</td>\n",
       "    </tr>\n",
       "  </tbody>\n",
       "</table>\n",
       "</div>"
      ],
      "text/plain": [
       "   gender  SeniorCitizen Partner Dependents  tenure PhoneService  \\\n",
       "0  Female              0     Yes         No       1           No   \n",
       "1    Male              0      No         No      34          Yes   \n",
       "2    Male              0      No         No       2          Yes   \n",
       "3    Male              0      No         No      45           No   \n",
       "4  Female              0      No         No       2          Yes   \n",
       "\n",
       "      MultipleLines InternetService OnlineSecurity OnlineBackup  \\\n",
       "0  No phone service             DSL             No          Yes   \n",
       "1                No             DSL            Yes           No   \n",
       "2                No             DSL            Yes          Yes   \n",
       "3  No phone service             DSL            Yes           No   \n",
       "4                No     Fiber optic             No           No   \n",
       "\n",
       "  DeviceProtection TechSupport StreamingTV StreamingMovies        Contract  \\\n",
       "0               No          No          No              No  Month-to-month   \n",
       "1              Yes          No          No              No        One year   \n",
       "2               No          No          No              No  Month-to-month   \n",
       "3              Yes         Yes          No              No        One year   \n",
       "4               No          No          No              No  Month-to-month   \n",
       "\n",
       "  PaperlessBilling              PaymentMethod  MonthlyCharges TotalCharges  \\\n",
       "0              Yes           Electronic check           29.85        29.85   \n",
       "1               No               Mailed check           56.95       1889.5   \n",
       "2              Yes               Mailed check           53.85       108.15   \n",
       "3               No  Bank transfer (automatic)           42.30      1840.75   \n",
       "4              Yes           Electronic check           70.70       151.65   \n",
       "\n",
       "  Churn  \n",
       "0    No  \n",
       "1    No  \n",
       "2   Yes  \n",
       "3    No  \n",
       "4   Yes  "
      ]
     },
     "execution_count": 8,
     "metadata": {},
     "output_type": "execute_result"
    }
   ],
   "source": [
    "df.head()"
   ]
  },
  {
   "cell_type": "code",
   "execution_count": 16,
   "metadata": {},
   "outputs": [],
   "source": [
    "df.TotalCharges = pd.to_numeric(df['TotalCharges'],errors='')"
   ]
  },
  {
   "cell_type": "code",
   "execution_count": 17,
   "metadata": {
    "collapsed": true
   },
   "outputs": [
    {
     "name": "stdout",
     "output_type": "stream",
     "text": [
      "<class 'pandas.core.frame.DataFrame'>\n",
      "RangeIndex: 7043 entries, 0 to 7042\n",
      "Data columns (total 20 columns):\n",
      " #   Column            Non-Null Count  Dtype  \n",
      "---  ------            --------------  -----  \n",
      " 0   gender            7043 non-null   object \n",
      " 1   SeniorCitizen     7043 non-null   int64  \n",
      " 2   Partner           7043 non-null   object \n",
      " 3   Dependents        7043 non-null   object \n",
      " 4   tenure            7043 non-null   int64  \n",
      " 5   PhoneService      7043 non-null   object \n",
      " 6   MultipleLines     7043 non-null   object \n",
      " 7   InternetService   7043 non-null   object \n",
      " 8   OnlineSecurity    7043 non-null   object \n",
      " 9   OnlineBackup      7043 non-null   object \n",
      " 10  DeviceProtection  7043 non-null   object \n",
      " 11  TechSupport       7043 non-null   object \n",
      " 12  StreamingTV       7043 non-null   object \n",
      " 13  StreamingMovies   7043 non-null   object \n",
      " 14  Contract          7043 non-null   object \n",
      " 15  PaperlessBilling  7043 non-null   object \n",
      " 16  PaymentMethod     7043 non-null   object \n",
      " 17  MonthlyCharges    7043 non-null   float64\n",
      " 18  TotalCharges      7032 non-null   float64\n",
      " 19  Churn             7043 non-null   object \n",
      "dtypes: float64(2), int64(2), object(16)\n",
      "memory usage: 1.1+ MB\n"
     ]
    }
   ],
   "source": [
    "df.info()"
   ]
  },
  {
   "cell_type": "code",
   "execution_count": 18,
   "metadata": {
    "collapsed": true
   },
   "outputs": [
    {
     "data": {
      "text/plain": [
       "gender               0\n",
       "SeniorCitizen        0\n",
       "Partner              0\n",
       "Dependents           0\n",
       "tenure               0\n",
       "PhoneService         0\n",
       "MultipleLines        0\n",
       "InternetService      0\n",
       "OnlineSecurity       0\n",
       "OnlineBackup         0\n",
       "DeviceProtection     0\n",
       "TechSupport          0\n",
       "StreamingTV          0\n",
       "StreamingMovies      0\n",
       "Contract             0\n",
       "PaperlessBilling     0\n",
       "PaymentMethod        0\n",
       "MonthlyCharges       0\n",
       "TotalCharges        11\n",
       "Churn                0\n",
       "dtype: int64"
      ]
     },
     "execution_count": 18,
     "metadata": {},
     "output_type": "execute_result"
    }
   ],
   "source": [
    "df.isnull().sum()"
   ]
  },
  {
   "cell_type": "code",
   "execution_count": 30,
   "metadata": {},
   "outputs": [
    {
     "name": "stdout",
     "output_type": "stream",
     "text": [
      "gender\n",
      "['Female' 'Male']\n",
      "SeniorCitizen\n",
      "[0 1]\n",
      "Partner\n",
      "['Yes' 'No']\n",
      "Dependents\n",
      "['No' 'Yes']\n",
      "tenure\n",
      "[ 1 34  2 45  8 22 10 28 62 13 16 58 49 25 69 52 71 21 12 30 47 72 17 27\n",
      "  5 46 11 70 63 43 15 60 18 66  9  3 31 50 64 56  7 42 35 48 29 65 38 68\n",
      " 32 55 37 36 41  6  4 33 67 23 57 61 14 20 53 40 59 24 44 19 54 51 26  0\n",
      " 39]\n",
      "PhoneService\n",
      "['No' 'Yes']\n",
      "MultipleLines\n",
      "['No phone service' 'No' 'Yes']\n",
      "InternetService\n",
      "['DSL' 'Fiber optic' 'No']\n",
      "OnlineSecurity\n",
      "['No' 'Yes' 'No internet service']\n",
      "OnlineBackup\n",
      "['Yes' 'No' 'No internet service']\n",
      "DeviceProtection\n",
      "['No' 'Yes' 'No internet service']\n",
      "TechSupport\n",
      "['No' 'Yes' 'No internet service']\n",
      "StreamingTV\n",
      "['No' 'Yes' 'No internet service']\n",
      "StreamingMovies\n",
      "['No' 'Yes' 'No internet service']\n",
      "Contract\n",
      "['Month-to-month' 'One year' 'Two year']\n",
      "PaperlessBilling\n",
      "['Yes' 'No']\n",
      "PaymentMethod\n",
      "['Electronic check' 'Mailed check' 'Bank transfer (automatic)'\n",
      " 'Credit card (automatic)']\n",
      "MonthlyCharges\n",
      "[29.85 56.95 53.85 ... 63.1  44.2  78.7 ]\n",
      "TotalCharges\n",
      "[  29.85 1889.5   108.15 ...  346.45  306.6  6844.5 ]\n",
      "Churn\n",
      "['No' 'Yes']\n"
     ]
    }
   ],
   "source": [
    "for i in df.columns:\n",
    "    print(i)\n",
    "    print(df[i].unique())"
   ]
  },
  {
   "cell_type": "code",
   "execution_count": 33,
   "metadata": {},
   "outputs": [],
   "source": [
    "df['Partner']=df['Partner'].map({'Yes':1,'No':0})\n",
    "df['Dependents']=df['Dependents'].map({'Yes':1,'No':0})\n",
    "df['PhoneService']=df['PhoneService'].map({'Yes':1,'No':0})\n",
    "df['PaperlessBilling']=df['PaperlessBilling'].map({'Yes':1,'No':0})\n",
    "df['Churn']=df['Churn'].map({'Yes':1,'No':0})"
   ]
  },
  {
   "cell_type": "code",
   "execution_count": 34,
   "metadata": {},
   "outputs": [
    {
     "data": {
      "text/html": [
       "<div>\n",
       "<style scoped>\n",
       "    .dataframe tbody tr th:only-of-type {\n",
       "        vertical-align: middle;\n",
       "    }\n",
       "\n",
       "    .dataframe tbody tr th {\n",
       "        vertical-align: top;\n",
       "    }\n",
       "\n",
       "    .dataframe thead th {\n",
       "        text-align: right;\n",
       "    }\n",
       "</style>\n",
       "<table border=\"1\" class=\"dataframe\">\n",
       "  <thead>\n",
       "    <tr style=\"text-align: right;\">\n",
       "      <th></th>\n",
       "      <th>gender</th>\n",
       "      <th>SeniorCitizen</th>\n",
       "      <th>Partner</th>\n",
       "      <th>Dependents</th>\n",
       "      <th>tenure</th>\n",
       "      <th>PhoneService</th>\n",
       "      <th>MultipleLines</th>\n",
       "      <th>InternetService</th>\n",
       "      <th>OnlineSecurity</th>\n",
       "      <th>OnlineBackup</th>\n",
       "      <th>DeviceProtection</th>\n",
       "      <th>TechSupport</th>\n",
       "      <th>StreamingTV</th>\n",
       "      <th>StreamingMovies</th>\n",
       "      <th>Contract</th>\n",
       "      <th>PaperlessBilling</th>\n",
       "      <th>PaymentMethod</th>\n",
       "      <th>MonthlyCharges</th>\n",
       "      <th>TotalCharges</th>\n",
       "      <th>Churn</th>\n",
       "    </tr>\n",
       "  </thead>\n",
       "  <tbody>\n",
       "    <tr>\n",
       "      <th>0</th>\n",
       "      <td>Female</td>\n",
       "      <td>0</td>\n",
       "      <td>1</td>\n",
       "      <td>0</td>\n",
       "      <td>1</td>\n",
       "      <td>0</td>\n",
       "      <td>No phone service</td>\n",
       "      <td>DSL</td>\n",
       "      <td>No</td>\n",
       "      <td>Yes</td>\n",
       "      <td>No</td>\n",
       "      <td>No</td>\n",
       "      <td>No</td>\n",
       "      <td>No</td>\n",
       "      <td>Month-to-month</td>\n",
       "      <td>1</td>\n",
       "      <td>Electronic check</td>\n",
       "      <td>29.85</td>\n",
       "      <td>29.85</td>\n",
       "      <td>0</td>\n",
       "    </tr>\n",
       "    <tr>\n",
       "      <th>1</th>\n",
       "      <td>Male</td>\n",
       "      <td>0</td>\n",
       "      <td>0</td>\n",
       "      <td>0</td>\n",
       "      <td>34</td>\n",
       "      <td>1</td>\n",
       "      <td>No</td>\n",
       "      <td>DSL</td>\n",
       "      <td>Yes</td>\n",
       "      <td>No</td>\n",
       "      <td>Yes</td>\n",
       "      <td>No</td>\n",
       "      <td>No</td>\n",
       "      <td>No</td>\n",
       "      <td>One year</td>\n",
       "      <td>0</td>\n",
       "      <td>Mailed check</td>\n",
       "      <td>56.95</td>\n",
       "      <td>1889.50</td>\n",
       "      <td>0</td>\n",
       "    </tr>\n",
       "  </tbody>\n",
       "</table>\n",
       "</div>"
      ],
      "text/plain": [
       "   gender  SeniorCitizen  Partner  Dependents  tenure  PhoneService  \\\n",
       "0  Female              0        1           0       1             0   \n",
       "1    Male              0        0           0      34             1   \n",
       "\n",
       "      MultipleLines InternetService OnlineSecurity OnlineBackup  \\\n",
       "0  No phone service             DSL             No          Yes   \n",
       "1                No             DSL            Yes           No   \n",
       "\n",
       "  DeviceProtection TechSupport StreamingTV StreamingMovies        Contract  \\\n",
       "0               No          No          No              No  Month-to-month   \n",
       "1              Yes          No          No              No        One year   \n",
       "\n",
       "   PaperlessBilling     PaymentMethod  MonthlyCharges  TotalCharges  Churn  \n",
       "0                 1  Electronic check           29.85         29.85      0  \n",
       "1                 0      Mailed check           56.95       1889.50      0  "
      ]
     },
     "execution_count": 34,
     "metadata": {},
     "output_type": "execute_result"
    }
   ],
   "source": [
    "df.head(2)"
   ]
  },
  {
   "cell_type": "code",
   "execution_count": 37,
   "metadata": {},
   "outputs": [
    {
     "data": {
      "text/plain": [
       "gender               0\n",
       "SeniorCitizen        0\n",
       "Partner              0\n",
       "Dependents           0\n",
       "tenure               0\n",
       "PhoneService         0\n",
       "MultipleLines        0\n",
       "InternetService      0\n",
       "OnlineSecurity       0\n",
       "OnlineBackup         0\n",
       "DeviceProtection     0\n",
       "TechSupport          0\n",
       "StreamingTV          0\n",
       "StreamingMovies      0\n",
       "Contract             0\n",
       "PaperlessBilling     0\n",
       "PaymentMethod        0\n",
       "MonthlyCharges       0\n",
       "TotalCharges        11\n",
       "Churn                0\n",
       "dtype: int64"
      ]
     },
     "execution_count": 37,
     "metadata": {},
     "output_type": "execute_result"
    }
   ],
   "source": [
    "df.isnull().sum()"
   ]
  },
  {
   "cell_type": "code",
   "execution_count": 39,
   "metadata": {},
   "outputs": [],
   "source": [
    "df = df.dropna()"
   ]
  },
  {
   "cell_type": "code",
   "execution_count": 41,
   "metadata": {
    "collapsed": true
   },
   "outputs": [
    {
     "data": {
      "text/plain": [
       "gender              0\n",
       "SeniorCitizen       0\n",
       "Partner             0\n",
       "Dependents          0\n",
       "tenure              0\n",
       "PhoneService        0\n",
       "MultipleLines       0\n",
       "InternetService     0\n",
       "OnlineSecurity      0\n",
       "OnlineBackup        0\n",
       "DeviceProtection    0\n",
       "TechSupport         0\n",
       "StreamingTV         0\n",
       "StreamingMovies     0\n",
       "Contract            0\n",
       "PaperlessBilling    0\n",
       "PaymentMethod       0\n",
       "MonthlyCharges      0\n",
       "TotalCharges        0\n",
       "Churn               0\n",
       "dtype: int64"
      ]
     },
     "execution_count": 41,
     "metadata": {},
     "output_type": "execute_result"
    }
   ],
   "source": [
    "df.isnull().sum()"
   ]
  },
  {
   "cell_type": "code",
   "execution_count": 56,
   "metadata": {},
   "outputs": [
    {
     "data": {
      "image/png": "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\n",
      "text/plain": [
       "<Figure size 1152x432 with 2 Axes>"
      ]
     },
     "metadata": {
      "needs_background": "light"
     },
     "output_type": "display_data"
    }
   ],
   "source": [
    "plt.figure(figsize=(16,6))\n",
    "plt.title('상관계수')\n",
    "sns.heatmap(df.corr(),annot=True,)\n",
    "plt.show()"
   ]
  },
  {
   "cell_type": "code",
   "execution_count": 101,
   "metadata": {},
   "outputs": [
    {
     "name": "stderr",
     "output_type": "stream",
     "text": [
      "C:\\ProgramData\\Anaconda3\\lib\\site-packages\\seaborn\\_decorators.py:36: FutureWarning: Pass the following variable as a keyword arg: x. From version 0.12, the only valid positional argument will be `data`, and passing other arguments without an explicit keyword will result in an error or misinterpretation.\n",
      "  warnings.warn(\n"
     ]
    },
    {
     "data": {
      "image/png": "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\n",
      "text/plain": [
       "<Figure size 432x288 with 1 Axes>"
      ]
     },
     "metadata": {
      "needs_background": "light"
     },
     "output_type": "display_data"
    }
   ],
   "source": [
    "sns.countplot(df.SeniorCitizen);"
   ]
  },
  {
   "cell_type": "code",
   "execution_count": 100,
   "metadata": {
    "collapsed": true
   },
   "outputs": [
    {
     "name": "stderr",
     "output_type": "stream",
     "text": [
      "C:\\ProgramData\\Anaconda3\\lib\\site-packages\\seaborn\\_decorators.py:36: FutureWarning: Pass the following variable as a keyword arg: x. From version 0.12, the only valid positional argument will be `data`, and passing other arguments without an explicit keyword will result in an error or misinterpretation.\n",
      "  warnings.warn(\n"
     ]
    },
    {
     "data": {
      "image/png": "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\n",
      "text/plain": [
       "<Figure size 432x288 with 1 Axes>"
      ]
     },
     "metadata": {
      "needs_background": "light"
     },
     "output_type": "display_data"
    }
   ],
   "source": [
    "sns.countplot(df.Partner);"
   ]
  },
  {
   "cell_type": "code",
   "execution_count": 103,
   "metadata": {},
   "outputs": [
    {
     "name": "stderr",
     "output_type": "stream",
     "text": [
      "C:\\ProgramData\\Anaconda3\\lib\\site-packages\\seaborn\\_decorators.py:36: FutureWarning: Pass the following variable as a keyword arg: x. From version 0.12, the only valid positional argument will be `data`, and passing other arguments without an explicit keyword will result in an error or misinterpretation.\n",
      "  warnings.warn(\n"
     ]
    },
    {
     "data": {
      "text/plain": [
       "<AxesSubplot:xlabel='Dependents', ylabel='count'>"
      ]
     },
     "execution_count": 103,
     "metadata": {},
     "output_type": "execute_result"
    },
    {
     "data": {
      "image/png": "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\n",
      "text/plain": [
       "<Figure size 432x288 with 1 Axes>"
      ]
     },
     "metadata": {
      "needs_background": "light"
     },
     "output_type": "display_data"
    }
   ],
   "source": [
    "sns.countplot(df.Dependents)"
   ]
  },
  {
   "cell_type": "code",
   "execution_count": 156,
   "metadata": {
    "scrolled": true
   },
   "outputs": [
    {
     "data": {
      "text/plain": [
       "<AxesSubplot:xlabel='tenure', ylabel='Count'>"
      ]
     },
     "execution_count": 156,
     "metadata": {},
     "output_type": "execute_result"
    },
    {
     "data": {
      "image/png": "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\n",
      "text/plain": [
       "<Figure size 432x288 with 1 Axes>"
      ]
     },
     "metadata": {
      "needs_background": "light"
     },
     "output_type": "display_data"
    }
   ],
   "source": [
    "sns.histplot(df.tenure,alpha=0.3) # 70개월까지 사용한 고객이 있다(1개월이 가장 많고, 70개월이 그다음으로 많다)"
   ]
  },
  {
   "cell_type": "code",
   "execution_count": 167,
   "metadata": {},
   "outputs": [],
   "source": [
    "# df[df['Churn'] == 1].sns.histplot(df.tenure,alpha = 0.3, color = '#016a55', label = 'Churn = Yes')\n",
    "\n",
    "# df[df['Churn'] == 0].sns.histplot(df.tenure,alpha = 0.3, color = '#d89955', label = 'Churn = No')\n",
    "\n",
    "# # plt.xlabel('tenure')\n",
    "# plt.legend();"
   ]
  },
  {
   "cell_type": "code",
   "execution_count": 147,
   "metadata": {},
   "outputs": [
    {
     "name": "stderr",
     "output_type": "stream",
     "text": [
      "C:\\ProgramData\\Anaconda3\\lib\\site-packages\\seaborn\\_decorators.py:36: FutureWarning: Pass the following variable as a keyword arg: x. From version 0.12, the only valid positional argument will be `data`, and passing other arguments without an explicit keyword will result in an error or misinterpretation.\n",
      "  warnings.warn(\n"
     ]
    },
    {
     "data": {
      "text/plain": [
       "<AxesSubplot:xlabel='PhoneService', ylabel='count'>"
      ]
     },
     "execution_count": 147,
     "metadata": {},
     "output_type": "execute_result"
    },
    {
     "data": {
      "image/png": "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\n",
      "text/plain": [
       "<Figure size 432x288 with 1 Axes>"
      ]
     },
     "metadata": {
      "needs_background": "light"
     },
     "output_type": "display_data"
    }
   ],
   "source": [
    "sns.countplot(df.PhoneService,hue=df.Churn)"
   ]
  },
  {
   "cell_type": "code",
   "execution_count": 124,
   "metadata": {},
   "outputs": [
    {
     "name": "stderr",
     "output_type": "stream",
     "text": [
      "C:\\ProgramData\\Anaconda3\\lib\\site-packages\\seaborn\\_decorators.py:36: FutureWarning: Pass the following variable as a keyword arg: x. From version 0.12, the only valid positional argument will be `data`, and passing other arguments without an explicit keyword will result in an error or misinterpretation.\n",
      "  warnings.warn(\n"
     ]
    },
    {
     "data": {
      "text/plain": [
       "<AxesSubplot:xlabel='MultipleLines', ylabel='count'>"
      ]
     },
     "execution_count": 124,
     "metadata": {},
     "output_type": "execute_result"
    },
    {
     "data": {
      "image/png": "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\n",
      "text/plain": [
       "<Figure size 432x288 with 1 Axes>"
      ]
     },
     "metadata": {
      "needs_background": "light"
     },
     "output_type": "display_data"
    }
   ],
   "source": [
    "sns.countplot(df.MultipleLines,hue=df.Churn)"
   ]
  },
  {
   "cell_type": "code",
   "execution_count": 142,
   "metadata": {},
   "outputs": [
    {
     "name": "stderr",
     "output_type": "stream",
     "text": [
      "C:\\ProgramData\\Anaconda3\\lib\\site-packages\\seaborn\\_decorators.py:36: FutureWarning: Pass the following variable as a keyword arg: x. From version 0.12, the only valid positional argument will be `data`, and passing other arguments without an explicit keyword will result in an error or misinterpretation.\n",
      "  warnings.warn(\n",
      "C:\\ProgramData\\Anaconda3\\lib\\site-packages\\seaborn\\_decorators.py:36: FutureWarning: Pass the following variable as a keyword arg: x. From version 0.12, the only valid positional argument will be `data`, and passing other arguments without an explicit keyword will result in an error or misinterpretation.\n",
      "  warnings.warn(\n",
      "C:\\ProgramData\\Anaconda3\\lib\\site-packages\\seaborn\\_decorators.py:36: FutureWarning: Pass the following variable as a keyword arg: x. From version 0.12, the only valid positional argument will be `data`, and passing other arguments without an explicit keyword will result in an error or misinterpretation.\n",
      "  warnings.warn(\n",
      "C:\\ProgramData\\Anaconda3\\lib\\site-packages\\seaborn\\_decorators.py:36: FutureWarning: Pass the following variable as a keyword arg: x. From version 0.12, the only valid positional argument will be `data`, and passing other arguments without an explicit keyword will result in an error or misinterpretation.\n",
      "  warnings.warn(\n",
      "C:\\ProgramData\\Anaconda3\\lib\\site-packages\\seaborn\\_decorators.py:36: FutureWarning: Pass the following variable as a keyword arg: x. From version 0.12, the only valid positional argument will be `data`, and passing other arguments without an explicit keyword will result in an error or misinterpretation.\n",
      "  warnings.warn(\n",
      "C:\\ProgramData\\Anaconda3\\lib\\site-packages\\seaborn\\_decorators.py:36: FutureWarning: Pass the following variable as a keyword arg: x. From version 0.12, the only valid positional argument will be `data`, and passing other arguments without an explicit keyword will result in an error or misinterpretation.\n",
      "  warnings.warn(\n"
     ]
    },
    {
     "data": {
      "image/png": "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\n",
      "text/plain": [
       "<Figure size 1152x720 with 6 Axes>"
      ]
     },
     "metadata": {
      "needs_background": "light"
     },
     "output_type": "display_data"
    }
   ],
   "source": [
    "fig,ax = plt.subplots(2,3,figsize=(16,10))\n",
    "sns.countplot(df.gender, hue = df.Churn,ax=ax[0][0])\n",
    "sns.countplot(df.Partner, hue = df.Churn,ax=ax[0][1]) \n",
    "sns.countplot(df.DeviceProtection, hue = df.Churn,ax=ax[0][2]) \n",
    "sns.countplot(df.TechSupport, hue = df.Churn,ax=ax[1][0]) \n",
    "sns.countplot(df.StreamingTV, hue = df.Churn,ax=ax[1][1])\n",
    "sns.countplot(df.PaymentMethod, hue = df.Churn,ax=ax[1][2])\n",
    "\n",
    "plt.xticks(rotation=50)\n",
    "plt.show()"
   ]
  },
  {
   "cell_type": "code",
   "execution_count": null,
   "metadata": {},
   "outputs": [],
   "source": []
  }
 ],
 "metadata": {
  "kernelspec": {
   "display_name": "Python 3",
   "language": "python",
   "name": "python3"
  },
  "language_info": {
   "codemirror_mode": {
    "name": "ipython",
    "version": 3
   },
   "file_extension": ".py",
   "mimetype": "text/x-python",
   "name": "python",
   "nbconvert_exporter": "python",
   "pygments_lexer": "ipython3",
   "version": "3.8.5"
  }
 },
 "nbformat": 4,
 "nbformat_minor": 4
}
1
